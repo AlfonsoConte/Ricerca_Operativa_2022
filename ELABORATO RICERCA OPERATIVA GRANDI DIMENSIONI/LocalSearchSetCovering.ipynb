{
 "cells": [
  {
   "cell_type": "markdown",
   "id": "a7f95459",
   "metadata": {},
   "source": [
    "# <center> Euristiche Local Search e Tabu Search per Set Covering Problem </center> #\n",
    "\n",
    "| Cognome | Nome | Matricola |\n",
    "| :-: | :-: | :-: |\n",
    "| Fazzari | Daniele | M63001384 |\n",
    "| Conte | Alfonso | M63001378 |"
   ]
  },
  {
   "cell_type": "markdown",
   "id": "b9e56d3a",
   "metadata": {},
   "source": [
    "## <center>Set Covering Problem</center>\n",
    "\n",
    "Il problema del set covering è un particolare problema di **selezione di sottoinsiemi (Subsets $S_j$**) nel quale si vuole garantire che ogni elemento appartenente all'insieme degli elementi da \"coprire\" (con i subsets) sia \"coperto\" da almeno un subset. Dunque, a differenza dei problemi di Set Partitioning e Set Packing, il generico elemento i-esimo può essere coperto da (o equivalentemente può \"appartenere\" a) più subset **$S_j \\in Sol$** (Sol è una generica soluzione del problema).\n",
    "\n",
    "Sia **A** la **matrice di copertura** (di dimensioni **mxn**, dove \"m\" è il numero di elementi da coprire ed \"n\" il numero di subsets) il cui generico elemento **$a_{ij}$** è definito come segue:\n",
    "\n",
    "- **1** se i $\\in S_j$ </center>\n",
    "- **0** altrimenti\n",
    "    \n",
    "Sia **x** il **vettore delle variabili** binarie (una per ogni subset $S_j$) la cui componente j-esima **$x_j$** è definita come segue:\n",
    "- **1** se $S_j \\in$ Sol\n",
    "- 0 altrimenti\n",
    "\n",
    "Sia **c** il **vettore dei costi** il cui elemento j-esimo **$c_j$** rappresenta il costo associato alla scelta del subset $S_j$. Esso risulta necessario alla definizione della **funzione obiettivo**, ovvero la minimizzazione del costo complessivo della soluzione: \n",
    "\n",
    "\\begin{equation}\n",
    "\\sum_{j \\in n} c_j x_j \n",
    "\\end{equation}\n",
    "\n",
    "Dunque è possibile formulare un problema di Set Covering nella seguente maniera compatta:\n",
    "\n",
    "\\begin{equation}\n",
    "min \\;\\; c^{T} x \\\\\n",
    "A x \\geq 1 \\\\\n",
    "x \\in \\{0,1\\}^n \\\\\n",
    "\\end{equation}"
   ]
  },
  {
   "cell_type": "markdown",
   "id": "4cb5375e",
   "metadata": {},
   "source": [
    "## <center> Risoluzione all'ottimo (Gurobi) </center>\n",
    "\n",
    "Importazione degli elementi di libreria di **Gurobi Optimizer** utili alla definizione del modello e alla risoluzione del problema (GRB), importazione della libreria numpy per l'algebra lineare. I dati del problema sono contenuti in un file di testo che deve essere essere opportunamente aperto (funzione open) e interpretato successivamente."
   ]
  },
  {
   "cell_type": "code",
   "execution_count": 25,
   "id": "21dae2f8",
   "metadata": {},
   "outputs": [],
   "source": [
    "import gurobipy as gp\n",
    "from gurobipy import GRB\n",
    "import numpy as np\n",
    "import time \n",
    "import matplotlib.pyplot as plt\n",
    "import math "
   ]
  },
  {
   "cell_type": "markdown",
   "id": "16f42a4a",
   "metadata": {},
   "source": [
    "### <center> Definizione del modello </center>\n",
    "\n",
    "Lettura delle dimensioni m (num_righe) e n (num_colonne) della matrice di copertura A e degli elementi $a_ij$ (letti ed inseriti in una lista di interi) usati per popolarla. Definizione del vettore dei costi associati ai subsets."
   ]
  },
  {
   "cell_type": "code",
   "execution_count": 26,
   "id": "32851ec2",
   "metadata": {},
   "outputs": [
    {
     "name": "stdout",
     "output_type": "stream",
     "text": [
      "658 45800\n"
     ]
    }
   ],
   "source": [
    "file = open(\"0341.3.spp\") #apertura del file contente i dati del modello\n",
    "linea= file.readline() #Lettura riga con le dimensioni di A\n",
    "riga_0=linea.split() \n",
    "num_righe=int(riga_0[0]) \n",
    "num_colonne=int(riga_0[1]) \n",
    "num_non_zero_elem=(riga_0[2])\n",
    "print(num_righe,num_colonne)\n",
    "\n",
    "costi_Sj = []\n",
    "A = np.zeros((num_righe, num_colonne))\n",
    "for i in range(num_colonne):\n",
    "    linea = file.readline().split()\n",
    "    costi_Sj.append(float(linea[0]))\n",
    "    for k in range(1,len(linea)):\n",
    "        A[int(linea[k])][i] = 1\n",
    "        \n",
    "A=A.tolist()"
   ]
  },
  {
   "cell_type": "markdown",
   "id": "35bf95b3",
   "metadata": {},
   "source": [
    "Inizializzazione del modello, creazione delle **variabili decisionali** $x_j$ del problema, definizione della **funzione obiettivo** e aggiunta dei constraints del problema."
   ]
  },
  {
   "cell_type": "code",
   "execution_count": 24,
   "id": "307b8f80",
   "metadata": {},
   "outputs": [
    {
     "ename": "KeyboardInterrupt",
     "evalue": "",
     "output_type": "error",
     "traceback": [
      "\u001b[1;31m---------------------------------------------------------------------------\u001b[0m",
      "\u001b[1;31mKeyboardInterrupt\u001b[0m                         Traceback (most recent call last)",
      "\u001b[1;32m~\\AppData\\Local\\Temp/ipykernel_1992/3207691672.py\u001b[0m in \u001b[0;36m<module>\u001b[1;34m\u001b[0m\n\u001b[0;32m     12\u001b[0m \u001b[1;31m#Vincoli del problema\u001b[0m\u001b[1;33m\u001b[0m\u001b[1;33m\u001b[0m\u001b[0m\n\u001b[0;32m     13\u001b[0m \u001b[1;33m\u001b[0m\u001b[0m\n\u001b[1;32m---> 14\u001b[1;33m \u001b[0mConstr\u001b[0m\u001b[1;33m=\u001b[0m \u001b[0mmod\u001b[0m\u001b[1;33m.\u001b[0m\u001b[0maddConstrs\u001b[0m\u001b[1;33m(\u001b[0m\u001b[1;33m(\u001b[0m\u001b[0mXvars\u001b[0m\u001b[1;33m.\u001b[0m\u001b[0mprod\u001b[0m\u001b[1;33m(\u001b[0m\u001b[0mA\u001b[0m\u001b[1;33m[\u001b[0m\u001b[0mi\u001b[0m\u001b[1;33m]\u001b[0m\u001b[1;33m)\u001b[0m\u001b[1;33m>=\u001b[0m\u001b[1;36m1\u001b[0m \u001b[1;32mfor\u001b[0m \u001b[0mi\u001b[0m \u001b[1;32min\u001b[0m \u001b[0mrange\u001b[0m\u001b[1;33m(\u001b[0m\u001b[0mnum_righe\u001b[0m\u001b[1;33m)\u001b[0m\u001b[1;33m)\u001b[0m\u001b[1;33m)\u001b[0m\u001b[1;33m\u001b[0m\u001b[1;33m\u001b[0m\u001b[0m\n\u001b[0m",
      "\u001b[1;32msrc\\gurobipy\\model.pxi\u001b[0m in \u001b[0;36mgurobipy.Model.addConstrs\u001b[1;34m()\u001b[0m\n",
      "\u001b[1;32m~\\AppData\\Local\\Temp/ipykernel_1992/3207691672.py\u001b[0m in \u001b[0;36m<genexpr>\u001b[1;34m(.0)\u001b[0m\n\u001b[0;32m     12\u001b[0m \u001b[1;31m#Vincoli del problema\u001b[0m\u001b[1;33m\u001b[0m\u001b[1;33m\u001b[0m\u001b[0m\n\u001b[0;32m     13\u001b[0m \u001b[1;33m\u001b[0m\u001b[0m\n\u001b[1;32m---> 14\u001b[1;33m \u001b[0mConstr\u001b[0m\u001b[1;33m=\u001b[0m \u001b[0mmod\u001b[0m\u001b[1;33m.\u001b[0m\u001b[0maddConstrs\u001b[0m\u001b[1;33m(\u001b[0m\u001b[1;33m(\u001b[0m\u001b[0mXvars\u001b[0m\u001b[1;33m.\u001b[0m\u001b[0mprod\u001b[0m\u001b[1;33m(\u001b[0m\u001b[0mA\u001b[0m\u001b[1;33m[\u001b[0m\u001b[0mi\u001b[0m\u001b[1;33m]\u001b[0m\u001b[1;33m)\u001b[0m\u001b[1;33m>=\u001b[0m\u001b[1;36m1\u001b[0m \u001b[1;32mfor\u001b[0m \u001b[0mi\u001b[0m \u001b[1;32min\u001b[0m \u001b[0mrange\u001b[0m\u001b[1;33m(\u001b[0m\u001b[0mnum_righe\u001b[0m\u001b[1;33m)\u001b[0m\u001b[1;33m)\u001b[0m\u001b[1;33m)\u001b[0m\u001b[1;33m\u001b[0m\u001b[1;33m\u001b[0m\u001b[0m\n\u001b[0m",
      "\u001b[1;31mKeyboardInterrupt\u001b[0m: "
     ]
    }
   ],
   "source": [
    "#Inizializzazione modello \n",
    "mod = gp.Model('SetCoveringOttimo')\n",
    "\n",
    "#vettore variabili decisionali\n",
    "num_Xvars=range(num_colonne)\n",
    "Xvars= mod.addVars(num_Xvars, name='X', vtype=GRB.BINARY)\n",
    "\n",
    "#Funzione obiettivo\n",
    "obj = gp.quicksum(costi_Sj[i]*Xvars[i] for i in num_Xvars) \n",
    "mod.setObjective(obj, GRB.MINIMIZE)\n",
    "\n",
    "#Vincoli del problema\n",
    "\n",
    "Constr= mod.addConstrs((Xvars.prod(A[i])>=1 for i in range(num_righe)))"
   ]
  },
  {
   "cell_type": "markdown",
   "id": "06bb00a8",
   "metadata": {},
   "source": [
    "### <center> Risoluzione ottima </center>\n",
    "\n",
    "Tentativo di Risoluzione all'ottimo del problema (appena modellato) utilizzando il modulo **optimize**"
   ]
  },
  {
   "cell_type": "code",
   "execution_count": 4,
   "id": "fb8ad22c",
   "metadata": {},
   "outputs": [
    {
     "name": "stdout",
     "output_type": "stream",
     "text": [
      "Gurobi Optimizer version 9.5.1 build v9.5.1rc2 (win64)\n",
      "Thread count: 6 physical cores, 12 logical processors, using up to 12 threads\n"
     ]
    },
    {
     "ename": "GurobiError",
     "evalue": "Model too large for size-limited license; visit https://www.gurobi.com/free-trial for a full license",
     "output_type": "error",
     "traceback": [
      "\u001b[1;31m---------------------------------------------------------------------------\u001b[0m",
      "\u001b[1;31mGurobiError\u001b[0m                               Traceback (most recent call last)",
      "\u001b[1;32m~\\AppData\\Local\\Temp/ipykernel_6152/4114063430.py\u001b[0m in \u001b[0;36m<module>\u001b[1;34m\u001b[0m\n\u001b[1;32m----> 1\u001b[1;33m \u001b[0mmod\u001b[0m\u001b[1;33m.\u001b[0m\u001b[0moptimize\u001b[0m\u001b[1;33m(\u001b[0m\u001b[1;33m)\u001b[0m\u001b[1;33m\u001b[0m\u001b[1;33m\u001b[0m\u001b[0m\n\u001b[0m",
      "\u001b[1;32msrc\\gurobipy\\model.pxi\u001b[0m in \u001b[0;36mgurobipy.Model.optimize\u001b[1;34m()\u001b[0m\n",
      "\u001b[1;31mGurobiError\u001b[0m: Model too large for size-limited license; visit https://www.gurobi.com/free-trial for a full license"
     ]
    }
   ],
   "source": [
    "mod.optimize()"
   ]
  },
  {
   "cell_type": "code",
   "execution_count": null,
   "id": "95b1ab2b",
   "metadata": {},
   "outputs": [],
   "source": [
    "if mod.status == GRB.OPTIMAL:\n",
    "    foundOptimalSol = True\n",
    "    Valore_Ottimo=mod.objVal\n",
    "    print('Valore soluzione: %g' % Valore_Ottimo)\n",
    "    X = mod.getAttr('x', Xvars)\n",
    "    print(type(X))\n",
    "    PrintX = np.zeros(num_colonne)\n",
    "    #for i in num_Xvars:\n",
    "        #if X[i] > 0 :\n",
    "        #print('X(%s) = %g' % (i, X[i]) )\n",
    "    print(\"Soluzione: \", X)"
   ]
  },
  {
   "cell_type": "markdown",
   "id": "d69c4bac",
   "metadata": {},
   "source": [
    "## <center> Risoluzione con Euristica Local Search </center>"
   ]
  },
  {
   "cell_type": "markdown",
   "id": "fed9a1ba",
   "metadata": {},
   "source": [
    "### <center> Funzioni di utilità </center>"
   ]
  },
  {
   "cell_type": "markdown",
   "id": "87405bb5",
   "metadata": {},
   "source": [
    "Funzione per determinazione di una soluzione ammissibile. Restituisce True se la soluzione (la quale ha associata il vettore di copertura righe in ingresso) è ammissibile per il problema di set covering considerato, False altrimenti. \n",
    "( NOTA: il nome deriva dal fatto che è utilizzata dall'algoritmo greedy )"
   ]
  },
  {
   "cell_type": "code",
   "execution_count": 27,
   "id": "1d7fb25f",
   "metadata": {},
   "outputs": [],
   "source": [
    "def is_a_solution_greedy(righe_coperte):\n",
    "    somma=np.sum(righe_coperte)\n",
    "    if somma == len(righe_coperte): \n",
    "        return True\n",
    "    else:\n",
    "        return False"
   ]
  },
  {
   "cell_type": "markdown",
   "id": "bd65cd45",
   "metadata": {},
   "source": [
    "Funzione per determinazione di una soluzione ammissibile a partire dal vettore di copertura delle righe. Restituisce False se è trovata una riga  non coperta (aka un elemento non coperto)"
   ]
  },
  {
   "cell_type": "code",
   "execution_count": 28,
   "id": "fc48f10c",
   "metadata": {},
   "outputs": [],
   "source": [
    "def is_a_solution(righe_coperte, num_righe): \n",
    "    for i in range(num_righe):\n",
    "        if righe_coperte[i]==0:\n",
    "            return False\n",
    "    return True"
   ]
  },
  {
   "cell_type": "markdown",
   "id": "e4ed391b",
   "metadata": {},
   "source": [
    "Funzione per valutare la copertura delle righe. Restituisce una lista il \n",
    "cui elemento i-esimo è il numero di subset Sj che coprono l'elemento i (ovvero la riga i)"
   ]
  },
  {
   "cell_type": "code",
   "execution_count": 29,
   "id": "13b4ca39",
   "metadata": {},
   "outputs": [],
   "source": [
    "def copri_righe(Sol,A, num_righe, num_colonne):\n",
    "    righe_coperte = np.zeros(num_righe)\n",
    "    for i in range(num_colonne):\n",
    "        if(Sol[i]==1):\n",
    "            for j in range(num_righe):\n",
    "                if A[j][i]==1:\n",
    "                    righe_coperte[j]+=1\n",
    "    return righe_coperte\n",
    "\n",
    "\n",
    "def copri_righe2(Sol,A, num_righe, num_colonne,righe_coperte,colonne_coprenti):\n",
    "    for i in range(num_colonne):\n",
    "        if(Sol[i]==1):\n",
    "            for j in range(num_righe):\n",
    "                if A[j][i]==1:\n",
    "                    righe_coperte[i].append(j)\n",
    "                    colonne_coprenti[j].append(i)"
   ]
  },
  {
   "cell_type": "markdown",
   "id": "6828c0e6",
   "metadata": {},
   "source": [
    "Definizione funzioni per aggiustamento del vettore di copertura delle righe in caso di eliminazione, aggiunta e swap di righe (aka elementi)"
   ]
  },
  {
   "cell_type": "code",
   "execution_count": 30,
   "id": "4cb0dc24",
   "metadata": {},
   "outputs": [],
   "source": [
    "def delete_righe_coperte(righe_coperte,k,A,num_righe):\n",
    "    righe_coperte_delete = np.zeros(num_righe)\n",
    "    for i in range(num_righe):\n",
    "        righe_coperte_delete[i] = righe_coperte[i]\n",
    "        if A[i][k]==1:\n",
    "            righe_coperte_delete[i]-=1\n",
    "    return righe_coperte_delete\n",
    "            \n",
    "def swap_righe_coperte(righe_coperte,h,k,A,num_righe):\n",
    "    righe_coperte_swap = np.zeros(num_righe)\n",
    "    for i in range(num_righe):\n",
    "        righe_coperte_swap[i]=righe_coperte[i]\n",
    "        if A[i][h]==1:\n",
    "            righe_coperte_swap[i]-=1\n",
    "        if A[i][k]==1:\n",
    "            righe_coperte_swap[i]+=1\n",
    "    return righe_coperte_swap\n",
    "\n",
    "def add_righe_coperte(righe_coperte,k,A,num_righe):\n",
    "    righe_coperte_delete=np.zeros(num_righe)\n",
    "    for i in range(num_righe):\n",
    "        righe_coperte_delete[i]=righe_coperte[i]\n",
    "        if A[i][k]==1:\n",
    "            righe_coperte_delete[i]+=1\n",
    "    return righe_coperte_delete"
   ]
  },
  {
   "cell_type": "markdown",
   "id": "a24dc20f",
   "metadata": {},
   "source": [
    "Definizione funzione per aggiunta alla soluzione del subset Sj con il minore rapporto costo/copertura. Il parametro min_index è di uscita, rappresenta l'indice del subset con il rapporto costo/copertura minore"
   ]
  },
  {
   "cell_type": "code",
   "execution_count": 31,
   "id": "9ef42ccd",
   "metadata": {},
   "outputs": [],
   "source": [
    "def aggiungi_set_migliore(Sol,costi_Sj,coperture_Sj,min_index, num_colonne):\n",
    "    costi=np.zeros(num_colonne)\n",
    "    costi_copertura=np.zeros(num_colonne)\n",
    "    for i in range(num_colonne):\n",
    "        if Sol[i]==0:\n",
    "            costi_copertura[i]=costi_Sj[i]/coperture_Sj[i]\n",
    "    min_index=costi_copertura.tolist().index(np.min(costi_copertura[np.nonzero(costi_copertura)]))\n",
    "    Sol[min_index]=1"
   ]
  },
  {
   "cell_type": "markdown",
   "id": "ffcd5ae4",
   "metadata": {},
   "source": [
    "Definizione funzione per il calcolo del valore di una soluzione, fornito il vettore soluzione e il vettore dei costi dei subset (costi_Sj)"
   ]
  },
  {
   "cell_type": "code",
   "execution_count": 32,
   "id": "2c8d9187",
   "metadata": {},
   "outputs": [],
   "source": [
    "def val_sol(Sol,costi_Sj):\n",
    "    val=np.dot(Sol,costi_Sj)\n",
    "    return val\n",
    "def val_sol_elimina(val_sol_iniziale,k,costi_Sj):\n",
    "    new_val=val_sol_iniziale-costi_Sj[k]\n",
    "    return new_val\n",
    "def val_sol_swap(val_sol_iniziale,h,k,costi_Sj):\n",
    "    new_val=val_sol_iniziale-costi_Sj[h]+costi_Sj[k]\n",
    "    return new_val\n",
    "def val_sol_add(val_sol_iniziale,k,costi_Sj):\n",
    "    new_val=val_sol_iniziale+costi_Sj[k]\n",
    "    return new_val"
   ]
  },
  {
   "cell_type": "markdown",
   "id": "3069d559",
   "metadata": {},
   "source": [
    "### <center> Algoritmo Greedy </center>"
   ]
  },
  {
   "cell_type": "markdown",
   "id": "6941d073",
   "metadata": {},
   "source": [
    "Definizione di un algoritmo greedy (algoritmo costruttivo) per la ricerca della soluzione iniziale di un problema, dati in ingresso il vettore soluzione di partenza (parametro di uscita), il vettore dei costi dei subset Sj, il vettore delle righe coperte da ogni Sj nella matrice di copertura. "
   ]
  },
  {
   "cell_type": "code",
   "execution_count": 33,
   "id": "27f9c8fb",
   "metadata": {},
   "outputs": [
    {
     "name": "stdout",
     "output_type": "stream",
     "text": [
      "Soluzione_Greedy: [1. 1. 1. ... 0. 1. 0.]\n",
      "Valore: 7185043.000000006\n",
      "Execution time Algoritmo Greedy: 7.821327209472656 s\n"
     ]
    }
   ],
   "source": [
    "def Algoritmo_Greedy(Sol_attuale,A,costi_Sj,coperture_Sj, num_righe, num_colonne):\n",
    "    costi_copertura={}\n",
    "    for i in range(num_colonne):\n",
    "        costi_copertura[i]=costi_Sj[i]/coperture_Sj[i]   \n",
    "    costi_copertura_sorted=sorted(costi_copertura.items(), key=lambda x:x[1])\n",
    "    righe_coperte=np.zeros(num_righe)\n",
    "    \n",
    "    while not(is_a_solution_greedy(righe_coperte)):\n",
    "        #aggiungi_set_migliore(Sol_attuale,costi_Sj,coperture_Sj,index, num_colonne)\n",
    "        index=costi_copertura_sorted.pop(0)[0]\n",
    "        Sol_attuale[index]=1\n",
    "        for k in range(num_righe):\n",
    "            if(A[k][index]==1):\n",
    "                righe_coperte[k]=1\n",
    "                \n",
    "#DEBUG\n",
    "Soluzione_Greedy = np.zeros(num_colonne) #Vettore atto a contenere la soluzione Greedy\n",
    "coperture_Sj = np.sum(A, axis=0) #L'elemento j di coperture è la somma di A[i][j] per ogni i\n",
    "temp = coperture_Sj.tolist().copy()\n",
    "st = time.time()\n",
    "Algoritmo_Greedy(Soluzione_Greedy,A,costi_Sj,temp, num_righe, num_colonne)\n",
    "et = time.time()\n",
    "elapsed_time = et - st\n",
    "print(\"Soluzione_Greedy:\",Soluzione_Greedy)\n",
    "print(\"Valore:\", val_sol(Soluzione_Greedy,costi_Sj))\n",
    "print('Execution time Algoritmo Greedy:', elapsed_time,\"s\")"
   ]
  },
  {
   "cell_type": "markdown",
   "id": "d8976ce2",
   "metadata": {},
   "source": [
    "### <center> Euristica di Ricerca Locale </center> "
   ]
  },
  {
   "cell_type": "markdown",
   "id": "62dc2fc1",
   "metadata": {},
   "source": [
    "Definizione delle mosse per la realizzazione di un algoritmo di Ricerca Locale. Mosse:\n",
    "- **Eliminazione** di un subset dalla soluzione attuale\n",
    "- **Aggiunta** di un subset alla soluzione attuale\n",
    "- **Scambio** di un subset non appartente alla soluzione attuale con uno appartente ad essa"
   ]
  },
  {
   "cell_type": "code",
   "execution_count": 34,
   "id": "fe41d879",
   "metadata": {},
   "outputs": [],
   "source": [
    "def elimina_set(Sol,k):\n",
    "    Sol[k]=0\n",
    "    \n",
    "def aggiungi_set(Sol,k):\n",
    "    Sol[k]=1\n",
    "    \n",
    "def scambia_set(Sol,h,k):\n",
    "    elimina_set(Sol,h)\n",
    "    aggiungi_set(Sol,k)"
   ]
  },
  {
   "cell_type": "markdown",
   "id": "048c1150",
   "metadata": {},
   "source": [
    "Procedura di definizione dell'**intorno** nello spazio delle soluzioni, determinato utilizzando iterativamente le mosse precedentemente definite. Tale procedura è utilizzata dalla euristica di ricerca locale per ottenere l'insieme delle soluzioni ammissibili all'interno del quale cercare una soluzione migliore della attuale."
   ]
  },
  {
   "cell_type": "code",
   "execution_count": 35,
   "id": "ebf8866a",
   "metadata": {},
   "outputs": [],
   "source": [
    "def intorno(Sol,A,num_righe,num_colonne,costi_Sj, m,):\n",
    "    \n",
    "    righe_coperte_base=np.zeros(num_righe)\n",
    "    righe_coperte_base=copri_righe(Sol,A, num_righe, num_colonne)\n",
    "    soluzioni_vicine=[]\n",
    "    val_sol_iniziale=val_sol(Sol,costi_Sj)\n",
    "    #copri_righe2(Sol,A, num_righe, num_colonne,righe_coperte,colonne_coprenti)\n",
    "    righe_coperte_delete=[]\n",
    "    righe_coperte_add=[]\n",
    "    righe_coperte_delete=righe_coperte_base.copy()\n",
    "    righe_coperte_swap=righe_coperte_base.copy()\n",
    "    num_soluzioni_delete=0\n",
    "    num_soluzioni_swap=0\n",
    "    l=0\n",
    "    j=0\n",
    "    while(num_soluzioni_delete<10 and l<m):\n",
    "        new_sol=Sol.copy()\n",
    "        new_val=val_sol_iniziale\n",
    "        for i in range(int(num_colonne/100)):\n",
    "            k=np.random.randint(num_colonne)\n",
    "            if(new_sol[k]!=0):\n",
    "                elimina_set(new_sol,k)\n",
    "                righe_coperte_delete=delete_righe_coperte(righe_coperte_delete,k,A,num_righe)\n",
    "                new_val=val_sol_elimina(new_val,k,costi_Sj)\n",
    "                if(is_a_solution(righe_coperte_delete, num_righe)):\n",
    "                    soluzioni_vicine.append((new_sol.copy(),new_val))\n",
    "                    num_soluzioni_delete+=1;\n",
    "        l+=1;\n",
    "\n",
    "            \n",
    "    while(num_soluzioni_swap<50 and j<m):\n",
    "        new_sol2=Sol.copy()\n",
    "        new_val2=val_sol_iniziale\n",
    "        for t in range(int(num_colonne/100)):\n",
    "            k=np.random.randint(num_colonne)\n",
    "            h=np.random.randint(num_colonne)\n",
    "            if(new_sol2[h]!=0 and new_sol2[k]!=1):\n",
    "                #new_sol2=Sol.copy()\n",
    "                scambia_set(new_sol2,h,k)\n",
    "                righe_coperte_swap=swap_righe_coperte(righe_coperte_swap,h,k,A,num_righe)\n",
    "                new_val2=val_sol_swap(new_val2,h,k,costi_Sj)\n",
    "                if(is_a_solution(righe_coperte_swap, num_righe)):          \n",
    "                    soluzioni_vicine.append((new_sol2.copy(),new_val2))\n",
    "                    num_soluzioni_swap+=1\n",
    "        j+=1\n",
    "            \n",
    "    return soluzioni_vicine"
   ]
  },
  {
   "cell_type": "markdown",
   "id": "4b721f96",
   "metadata": {},
   "source": [
    "Definizione della **ricerca locale** con tecnica **BEST IMPROVEMENT**. Una volta valutato l'intorno della soluzione corrente, viene aggiornata la soluzione attuale con la soluzione ammissibile migliore nell'intorno. Tale soluzione ammissibile selezionata deve avere un valore, in tal caso un valore di funzione obiettivo (estimatore), minore (trattandosi di un problema a minimizzazione del costo) della soluzione a partire dalla quale è stato costruito l'intorno, in quanto non si accettano delle iterazioni peggiorative dell'algoritmo stesso. E' da notare che si tratta dunque di una **euristica MIGLIORATIVA**, in quanto, partendo da una soluzione ammissibile, cerca dei miglioramenti di essa al fine di trovare una soluzione ammissibile definitiva migliore."
   ]
  },
  {
   "cell_type": "code",
   "execution_count": 36,
   "id": "3e41c50a",
   "metadata": {},
   "outputs": [],
   "source": [
    "def ricerca_locale(Sol,A,num_righe,num_colonne,costi_Sj,val_soluzioni,continua=True):\n",
    "    \n",
    "    vecchia_soluzione=Sol\n",
    "    valore_sol = val_sol(Sol,costi_Sj)\n",
    "    iter=0\n",
    "    stessa_sol=0\n",
    "    soluzioni=[]\n",
    "    \n",
    "    #Dimensione dell'intorno dipendente dalla dimensione del problema\n",
    "    dim_intorno = num_colonne/20\n",
    "    \n",
    "    while True:\n",
    "        \n",
    "        soluzioni_vicine = intorno(vecchia_soluzione,A,num_righe,num_colonne,costi_Sj,dim_intorno)    \n",
    "        val_migliore_sol = val_sol(vecchia_soluzione,costi_Sj)\n",
    "        migliore_sol=vecchia_soluzione\n",
    "\n",
    "        if continua and iter%5==0:\n",
    "            print(\"iterazione N°:\",iter, \"--> Miglioramento Percentuale:\", int(val_migliore_sol/valore_sol*100), \"%\")\n",
    "            \n",
    "            if ((val_migliore_sol/valore_sol*100)<=30):\n",
    "                break\n",
    "           # print(\"val_migliore_sol\",val_migliore_sol,\"valore_sol\",valore_sol)\n",
    "        for sol,val in soluzioni_vicine:\n",
    "            \n",
    "            if(val < val_migliore_sol):\n",
    "                #print(\"VAL E' < DI VAL_MIGLIORE_SOL\",val,\"  \",val_migliore_sol)\n",
    "                val_migliore_sol = val\n",
    "                migliore_sol = sol\n",
    "                val_soluzioni.append(val)\n",
    "                \n",
    "                \n",
    "        \n",
    "        if((migliore_sol == vecchia_soluzione).all()):\n",
    "            stessa_sol = stessa_sol + 1\n",
    "            if(stessa_sol == 50):\n",
    "                break\n",
    "        else:\n",
    "            stessa_sol = 0\n",
    "            vecchia_soluzione = migliore_sol\n",
    "            \n",
    "\n",
    "        iter = iter+1\n",
    "        \n",
    "    return vecchia_soluzione"
   ]
  },
  {
   "cell_type": "code",
   "execution_count": 37,
   "id": "943524de",
   "metadata": {},
   "outputs": [
    {
     "name": "stdout",
     "output_type": "stream",
     "text": [
      "iterazione N°: 0 --> Miglioramento Percentuale: 100 %\n",
      "iterazione N°: 5 --> Miglioramento Percentuale: 95 %\n",
      "iterazione N°: 10 --> Miglioramento Percentuale: 90 %\n",
      "iterazione N°: 15 --> Miglioramento Percentuale: 86 %\n",
      "iterazione N°: 20 --> Miglioramento Percentuale: 81 %\n",
      "iterazione N°: 25 --> Miglioramento Percentuale: 78 %\n",
      "iterazione N°: 30 --> Miglioramento Percentuale: 74 %\n",
      "iterazione N°: 35 --> Miglioramento Percentuale: 70 %\n",
      "iterazione N°: 40 --> Miglioramento Percentuale: 67 %\n",
      "iterazione N°: 45 --> Miglioramento Percentuale: 63 %\n",
      "iterazione N°: 50 --> Miglioramento Percentuale: 60 %\n",
      "iterazione N°: 55 --> Miglioramento Percentuale: 57 %\n",
      "iterazione N°: 60 --> Miglioramento Percentuale: 54 %\n",
      "iterazione N°: 65 --> Miglioramento Percentuale: 52 %\n",
      "iterazione N°: 70 --> Miglioramento Percentuale: 49 %\n",
      "iterazione N°: 75 --> Miglioramento Percentuale: 47 %\n",
      "iterazione N°: 80 --> Miglioramento Percentuale: 44 %\n",
      "iterazione N°: 85 --> Miglioramento Percentuale: 42 %\n",
      "iterazione N°: 90 --> Miglioramento Percentuale: 40 %\n",
      "iterazione N°: 95 --> Miglioramento Percentuale: 38 %\n",
      "iterazione N°: 100 --> Miglioramento Percentuale: 37 %\n",
      "iterazione N°: 105 --> Miglioramento Percentuale: 35 %\n",
      "iterazione N°: 110 --> Miglioramento Percentuale: 33 %\n",
      "iterazione N°: 115 --> Miglioramento Percentuale: 31 %\n",
      "iterazione N°: 120 --> Miglioramento Percentuale: 30 %\n",
      "iterazione N°: 125 --> Miglioramento Percentuale: 29 %\n",
      "Soluzione -->  [1. 0. 1. ... 0. 0. 0.] \n",
      "Valore soluzione:  2086286.370000001\n",
      "Execution time Ricerca locale:  401.24547004699707 s\n"
     ]
    }
   ],
   "source": [
    "\n",
    "val_soluzioni=[]\n",
    "t1=time.time()\n",
    "Soluzione_Local=ricerca_locale(Soluzione_Greedy,A,num_righe,num_colonne,costi_Sj,val_soluzioni)\n",
    "t2=time.time()\n",
    "\n",
    "    \n",
    "print(\"Soluzione --> \",Soluzione_Local,\"\\nValore soluzione: \",val_sol(Soluzione_Local,costi_Sj))\n",
    "print(\"Execution time Ricerca locale: \",t2-t1, \"s\")  "
   ]
  },
  {
   "cell_type": "code",
   "execution_count": null,
   "id": "569dff17",
   "metadata": {},
   "outputs": [],
   "source": [
    "a=np.array(val_soluzioni)\n",
    "l=len(a)\n",
    "Best=val_sol(Soluzione_Greedy,costi_Sj) \n",
    "plt.title(\"Local Search\",fontsize=25)\n",
    "plt.ylabel(\"Valore funzione obiettivo\")\n",
    "plt.xlabel(\"Iterazione\")\n",
    "plt.xlim(-num_colonne/2, l+num_colonne/2)\n",
    "plt.ylim(min(a)-num_colonne/2, max(a)+num_colonne/2)\n",
    "plt.plot([l-1],[Best], 'ro', label='Valore Greedy')\n",
    "for i in range(l):\n",
    "    plt.plot([i],a[i],'b+')\n",
    "plt.legend()"
   ]
  },
  {
   "cell_type": "markdown",
   "id": "3be7bf0f",
   "metadata": {},
   "source": [
    "Definizione di una euristica di ricerca locale molto simile alla precedente, ma che implementa la ricerca nell'intorno con \n",
    "**tecnica FIRST IMPROVEMENT**. Verosimilmente dovrebbe verificarsi un calo nel tempo complessivo di calcolo della soluzione sub-ottima, con un conseguente (ma non certo) peggioramento del valore della soluzione finale."
   ]
  },
  {
   "cell_type": "code",
   "execution_count": null,
   "id": "eb0d81bc",
   "metadata": {},
   "outputs": [],
   "source": [
    "def ricerca_locale(Sol,A,num_righe,num_colonne,costi_Sj,val_soluzioni,continua=True):\n",
    "    \n",
    "    vecchia_soluzione=Sol\n",
    "    valore_sol = val_sol(Sol,costi_Sj)\n",
    "    iter=0\n",
    "    stessa_sol=0\n",
    "    soluzioni=[]\n",
    "    \n",
    "    #Dimensione dell'intorno dipendente dalla dimensione del problema\n",
    "    dim_intorno = num_colonne/20\n",
    "    \n",
    "    while True:\n",
    "        \n",
    "        soluzioni_vicine = intorno(vecchia_soluzione,A,num_righe,num_colonne,costi_Sj,dim_intorno)    \n",
    "        val_migliore_sol = val_sol(vecchia_soluzione,costi_Sj)\n",
    "        migliore_sol=vecchia_soluzione\n",
    "\n",
    "        if continua and iter%5==0:\n",
    "            print(\"iterazione N°:\",iter, \"--> Miglioramento Percentuale:\", int(val_migliore_sol/valore_sol*100), \"%\")\n",
    "            \n",
    "            if ((val_migliore_sol/valore_sol*100)<=30):\n",
    "                break\n",
    "           # print(\"val_migliore_sol\",val_migliore_sol,\"valore_sol\",valore_sol)\n",
    "        for sol,val in soluzioni_vicine:\n",
    "            \n",
    "            if(val < val_migliore_sol):\n",
    "                #print(\"VAL E' < DI VAL_MIGLIORE_SOL\",val,\"  \",val_migliore_sol)\n",
    "                val_migliore_sol = val\n",
    "                migliore_sol = sol\n",
    "                val_soluzioni.append(val)        \n",
    "                break\n",
    "                      \n",
    "        \n",
    "        if((migliore_sol == vecchia_soluzione).all()):\n",
    "            stessa_sol = stessa_sol + 1\n",
    "            if(stessa_sol == 50):\n",
    "                break\n",
    "        else:\n",
    "            stessa_sol = 0\n",
    "            vecchia_soluzione = migliore_sol\n",
    "            \n",
    "\n",
    "        iter = iter+1\n",
    "        \n",
    "    return vecchia_soluzione"
   ]
  },
  {
   "cell_type": "code",
   "execution_count": 17,
   "id": "cac1d5c5",
   "metadata": {},
   "outputs": [
    {
     "ename": "NameError",
     "evalue": "name 'ricerca_locale_first_improvement' is not defined",
     "output_type": "error",
     "traceback": [
      "\u001b[1;31m---------------------------------------------------------------------------\u001b[0m",
      "\u001b[1;31mNameError\u001b[0m                                 Traceback (most recent call last)",
      "\u001b[1;32m~\\AppData\\Local\\Temp/ipykernel_6152/2713474572.py\u001b[0m in \u001b[0;36m<module>\u001b[1;34m\u001b[0m\n\u001b[0;32m      2\u001b[0m \u001b[0mval_soluzioni\u001b[0m\u001b[1;33m=\u001b[0m\u001b[1;33m[\u001b[0m\u001b[1;33m]\u001b[0m\u001b[1;33m\u001b[0m\u001b[1;33m\u001b[0m\u001b[0m\n\u001b[0;32m      3\u001b[0m \u001b[0mt1\u001b[0m\u001b[1;33m=\u001b[0m\u001b[0mtime\u001b[0m\u001b[1;33m.\u001b[0m\u001b[0mtime\u001b[0m\u001b[1;33m(\u001b[0m\u001b[1;33m)\u001b[0m\u001b[1;33m\u001b[0m\u001b[1;33m\u001b[0m\u001b[0m\n\u001b[1;32m----> 4\u001b[1;33m \u001b[0mSoluzione_Local_firts_improvement\u001b[0m\u001b[1;33m=\u001b[0m\u001b[0mricerca_locale_first_improvement\u001b[0m\u001b[1;33m(\u001b[0m\u001b[0mSoluzione_Greedy\u001b[0m\u001b[1;33m,\u001b[0m\u001b[0mA\u001b[0m\u001b[1;33m,\u001b[0m\u001b[0mnum_righe\u001b[0m\u001b[1;33m,\u001b[0m \u001b[0mnum_colonne\u001b[0m\u001b[1;33m,\u001b[0m \u001b[0mcosti_Sj\u001b[0m\u001b[1;33m,\u001b[0m\u001b[0mval_soluzioni\u001b[0m\u001b[1;33m)\u001b[0m\u001b[1;33m\u001b[0m\u001b[1;33m\u001b[0m\u001b[0m\n\u001b[0m\u001b[0;32m      5\u001b[0m \u001b[0mt2\u001b[0m\u001b[1;33m=\u001b[0m\u001b[0mtime\u001b[0m\u001b[1;33m.\u001b[0m\u001b[0mtime\u001b[0m\u001b[1;33m(\u001b[0m\u001b[1;33m)\u001b[0m\u001b[1;33m\u001b[0m\u001b[1;33m\u001b[0m\u001b[0m\n\u001b[0;32m      6\u001b[0m \u001b[0mprint\u001b[0m\u001b[1;33m(\u001b[0m\u001b[1;34m\"Soluzione --> \"\u001b[0m\u001b[1;33m,\u001b[0m\u001b[0mSoluzione_Local_firts_improvement\u001b[0m\u001b[1;33m,\u001b[0m\u001b[1;34m\"\\nValore soluzione: \"\u001b[0m\u001b[1;33m,\u001b[0m\u001b[0mval_sol\u001b[0m\u001b[1;33m(\u001b[0m\u001b[0mSoluzione_Local_firts_improvement\u001b[0m\u001b[1;33m,\u001b[0m\u001b[0mcosti_Sj\u001b[0m\u001b[1;33m)\u001b[0m\u001b[1;33m)\u001b[0m\u001b[1;33m\u001b[0m\u001b[1;33m\u001b[0m\u001b[0m\n",
      "\u001b[1;31mNameError\u001b[0m: name 'ricerca_locale_first_improvement' is not defined"
     ]
    }
   ],
   "source": [
    "#DEBUG\n",
    "val_soluzioni=[]\n",
    "t1=time.time()\n",
    "Soluzione_Local_firts_improvement=ricerca_locale_first_improvement(Soluzione_Greedy,A,num_righe, num_colonne, costi_Sj,val_soluzioni)\n",
    "t2=time.time()\n",
    "print(\"Soluzione --> \",Soluzione_Local_firts_improvement,\"\\nValore soluzione: \",val_sol(Soluzione_Local_firts_improvement,costi_Sj))\n",
    "print(\"Execution time Ricerca locale: \",t2-t1, \"s\")  "
   ]
  },
  {
   "cell_type": "markdown",
   "id": "0aace245",
   "metadata": {},
   "source": [
    "## <center> Euristica Tabu Search </center>"
   ]
  },
  {
   "cell_type": "markdown",
   "id": "1605fc5c",
   "metadata": {},
   "source": [
    "Classe coda_tabu per implementare il **TDA** per gestire le **mosse tabu**. L'elemento i-esimo della coda conterrà un intero rappresentante l'indice del subset Sj (nel vettore soluzione) che è stato oggetto di una mossa. Trattandosi di una **coda circolare** un determinato elemento non farà più parte della coda dopo dim_coda inserimenti. "
   ]
  },
  {
   "cell_type": "code",
   "execution_count": null,
   "id": "ae30d496",
   "metadata": {},
   "outputs": [],
   "source": [
    "class coda_tabu:\n",
    "\n",
    "    #dimensione = numero elementi contenuti\n",
    "    def __init__(self, dimensione=5):\n",
    "        self.coda = [None] * dimensione  #coda\n",
    "        self.dimensione_max = dimensione\n",
    "        self.punt_testa = 0 \n",
    "        self.punt_coda = -1\n",
    "        self.riemp = 0\n",
    "\n",
    "    def inserisci_elemento_tabu(self, elem_tabu):\n",
    "        self.punt_coda = (self.punt_coda + 1) % self.dimensione_max\n",
    "        self.coda[self.punt_coda] = elem_tabu\n",
    "        if(self.riemp!=self.dimensione_max):\n",
    "            self.riemp = self.riemp + 1\n",
    "\n",
    "    def trova_elemento(self, elem_tabu): \n",
    "        for i in range(self.riemp):\n",
    "            if(self.coda[i] == elem_tabu):\n",
    "                return True\n",
    "        return False   \n",
    "\n",
    "    def stampa_coda(self):\n",
    "        print(\"Print Coda: \")\n",
    "        for i in range(self.riemp):\n",
    "            print(self.coda[i])\n",
    "            \n",
    "    def pulisci_tabu(self):\n",
    "        for i in range(self.riemp):\n",
    "            self.coda[i]=None\n",
    "        self.riemp=0\n",
    "        self.punt_testa = 0 \n",
    "        self.punt_coda = -1"
   ]
  },
  {
   "cell_type": "markdown",
   "id": "9f7bff3b",
   "metadata": {},
   "source": [
    "Codice di definizione dell'intorno per la **tabu search**. A differenza della procedura di calcolo dell'intorno per la ricerca locale standard, questa, nonostante generi indici casuali per determinare i subset da eliminare/aggiungere, effettua la mossa esclusivamente se l'indice del subset soggetto della mossa non si trova nella coda circolare tabu."
   ]
  },
  {
   "cell_type": "code",
   "execution_count": null,
   "id": "05c93ce4",
   "metadata": {},
   "outputs": [],
   "source": [
    "def intorno_tabu(Sol,A,num_colonne, costi_Sj,coda_tabu, dim_intorno):\n",
    "    \n",
    "    m=dim_intorno\n",
    "    righe_coperte_base=np.zeros(num_righe)\n",
    "    righe_coperte_base=copri_righe(Sol,A, num_righe, num_colonne)\n",
    "    soluzioni_vicine=[]\n",
    "    val_sol_iniziale=val_sol(Sol,costi_Sj)\n",
    "    righe_coperte_delete=[]\n",
    "    righe_coperte_add=[]\n",
    "    righe_coperte_delete=righe_coperte_base.copy()\n",
    "    righe_coperte_swap=righe_coperte_base.copy()\n",
    "    num_soluzioni_delete=0\n",
    "    num_soluzioni_swap=0\n",
    "    l=0\n",
    "    j=0\n",
    "    while(num_soluzioni_delete<10 and l<m):\n",
    "        new_sol=Sol.copy()\n",
    "        new_val=val_sol_iniziale\n",
    "        for i in range(num_colonne/100):\n",
    "            k=np.random.randint(num_colonne)\n",
    "            if(new_sol[k]!=0 and not(coda_tabu.trova_elemento(k))):\n",
    "                elimina_set(new_sol,k)\n",
    "                righe_coperte_delete=delete_righe_coperte(righe_coperte_delete,k,A,num_righe)\n",
    "                new_val=val_sol_elimina(new_val,k,costi_Sj)\n",
    "                if(is_a_solution(righe_coperte_delete, num_righe)):\n",
    "                    soluzioni_vicine.append((new_sol.copy(),new_val,(k,-1)))\n",
    "                    num_soluzioni_delete+=1;\n",
    "            l+=1;\n",
    "\n",
    "            \n",
    "    while(num_soluzioni_swap<50 and j<m):\n",
    "        new_sol2=Sol.copy()\n",
    "        new_val2=val_sol_iniziale\n",
    "        for t in range(num_colonne/100):\n",
    "            k=np.random.randint(num_colonne)\n",
    "            h=np.random.randint(num_colonne)\n",
    "            if(new_sol2[h]!=0 and new_sol2[k]!=1 and not(coda_tabu.trova_elemento(h)) and not(coda_tabu.trova_elemento(k))):\n",
    "                scambia_set(new_sol2,h,k)\n",
    "                righe_coperte_swap=swap_righe_coperte(righe_coperte_swap,h,k,A,num_righe)\n",
    "                new_val2=val_sol_swap(new_val2,h,k,costi_Sj)\n",
    "                if(is_a_solution(righe_coperte_swap, num_righe)):          \n",
    "                    soluzioni_vicine.append((new_sol2.copy(),new_val2,(k,h)))\n",
    "                    num_soluzioni_swap+=1\n",
    "        j+=1\n",
    "                \n",
    "\n",
    "    return soluzioni_vicine"
   ]
  },
  {
   "cell_type": "markdown",
   "id": "5e77cddf",
   "metadata": {},
   "source": [
    "Implementazione della Euristica Tabu Search. All'interno di tale implementazione si ritrovano i concetti di **intensificazione** (con l'aumento della dimensione e della popolosità dell'interno da ispezionare) e **diversificazione** (con la possibilità di effettuare delle iterazioni peggiorative"
   ]
  },
  {
   "cell_type": "code",
   "execution_count": null,
   "id": "4009b63b",
   "metadata": {},
   "outputs": [],
   "source": [
    "def tabu_search(Sol,A,num_colonne, costi_Sj,val_soluzioni,continua=True):\n",
    "    \n",
    "    vecchia_soluzione=Sol\n",
    "    valore_sol = val_sol(Sol,costi_Sj)\n",
    "    iter=0\n",
    "    stessa_sol=0\n",
    "    soluzioni=[]\n",
    "        \n",
    "    #Dimensione dell'intorno dipendente dalla dimensione del problema\n",
    "    dim_intorno = num_colonne/20\n",
    "    coda_tb=coda_tabu(int(num_colonne*0.06))\n",
    "    \n",
    "    while True:\n",
    "        \n",
    "        soluzioni_vicine = intorno_tabu(vecchia_soluzione,A,num_colonne,costi_Sj,coda_tb,dim_intorno)    \n",
    "        val_migliore_sol = val_sol(vecchia_soluzione,costi_Sj)\n",
    "        migliore_sol=vecchia_soluzione\n",
    "\n",
    "        if continua and iter%5==0:\n",
    "            print(\"iterazione N°:\",iter, \"--> Miglioramento Percentuale:\", int(val_migliore_sol/valore_sol*100), \"%\")\n",
    "            \n",
    "            if ((val_migliore_sol/valore_sol*100)<=30):\n",
    "                break\n",
    "           # print(\"val_migliore_sol\",val_migliore_sol,\"valore_sol\",valore_sol)\n",
    "        for sol,val in soluzioni_vicine:\n",
    "            \n",
    "            if(val < val_migliore_sol):\n",
    "                #print(\"VAL E' < DI VAL_MIGLIORE_SOL\",val,\"  \",val_migliore_sol)\n",
    "                val_migliore_sol = val\n",
    "                migliore_sol = sol\n",
    "                val_soluzioni.append(val)\n",
    "                \n",
    "                \n",
    "        \n",
    "        if((migliore_sol == vecchia_soluzione).all()):\n",
    "            stessa_sol = stessa_sol + 1\n",
    "            if(stessa_sol == 10):\n",
    "                break\n",
    "        else:\n",
    "            stessa_sol = 0\n",
    "            vecchia_soluzione = migliore_sol\n",
    "            \n",
    "\n",
    "        iter = iter+1\n",
    "        \n",
    "    return vecchia_soluzione"
   ]
  },
  {
   "cell_type": "code",
   "execution_count": null,
   "id": "7051d592",
   "metadata": {
    "scrolled": true
   },
   "outputs": [],
   "source": [
    "val_soluzioni2 = []\n",
    "soluzione = np.ones(num_colonne)\n",
    "t1=time.time()\n",
    "Soluzione_tabu=tabu_search(Soluzione_Greedy,A,num_colonne,costi_Sj,val_soluzioni2)\n",
    "t2=time.time()\n",
    "print(\"Soluzione : \",Soluzione_tabu,\"\\nValore soluzione: \",val_sol(Soluzione_tabu,costi_Sj),\"\\nExecution time Tabu Search:\",t2-t1,\" s\")"
   ]
  },
  {
   "cell_type": "code",
   "execution_count": null,
   "id": "efdf5cf2",
   "metadata": {},
   "outputs": [],
   "source": [
    "a=np.array(val_soluzioni2)\n",
    "l=len(a)\n",
    "Best=Valore_Ottimo #Valore ottenuto dall' esecuzione dell'algoritmo esatto con Gurobi\n",
    "plt.title(\"Tabu Search\",fontsize=25)\n",
    "plt.ylabel(\"Valore funzione obiettivo\")\n",
    "plt.xlabel(\"Iterazione\")\n",
    "plt.xlim(-num_colonne/4, l+num_colonne/4)\n",
    "plt.ylim(min(a)-num_colonne/4, max(a)+num_colonne/4)\n",
    "plt.plot([l-1],[Best], 'ro', label='Valore Greedy')\n",
    "for i in range(l):\n",
    "    plt.plot([i],a[i],'b+')\n",
    "plt.legend()"
   ]
  },
  {
   "cell_type": "code",
   "execution_count": null,
   "id": "3e18a2fe",
   "metadata": {},
   "outputs": [],
   "source": []
  }
 ],
 "metadata": {
  "kernelspec": {
   "display_name": "Python 3 (ipykernel)",
   "language": "python",
   "name": "python3"
  },
  "language_info": {
   "codemirror_mode": {
    "name": "ipython",
    "version": 3
   },
   "file_extension": ".py",
   "mimetype": "text/x-python",
   "name": "python",
   "nbconvert_exporter": "python",
   "pygments_lexer": "ipython3",
   "version": "3.9.7"
  }
 },
 "nbformat": 4,
 "nbformat_minor": 5
}
