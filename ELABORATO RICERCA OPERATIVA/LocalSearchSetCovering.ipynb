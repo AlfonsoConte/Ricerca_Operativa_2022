{
 "cells": [
  {
   "cell_type": "markdown",
   "id": "a7f95459",
   "metadata": {},
   "source": [
    "# <center> Euristiche Local Search e Tabu Search per Set Covering Problem </center> #\n",
    "\n",
    "| Cognome | Nome | Matricola |\n",
    "| :-: | :-: | :-: |\n",
    "| Fazzari | Daniele | M63001384 |\n",
    "| Conte | Alfonso | M63001378 |"
   ]
  },
  {
   "cell_type": "markdown",
   "id": "b9e56d3a",
   "metadata": {},
   "source": [
    "## <center>Set Covering Problem</center>\n",
    "\n",
    "Il problema del set covering è un particolare problema di **selezione di sottoinsiemi (Subsets $S_j$**) nel quale si vuole garantire che ogni elemento appartenente all'insieme degli elementi da \"coprire\" (con i subsets) sia \"coperto\" da almeno un subset. Dunque, a differenza dei problemi di Set Partitioning e Set Packing, il generico elemento i-esimo può essere coperto da (o equivalentemente può \"appartenere\" a) più subset **$S_j \\in Sol$** (Sol è una generica soluzione del problema).\n",
    "\n",
    "Sia **A** la **matrice di copertura** (di dimensioni **mxn**, dove \"m\" è il numero di elementi da coprire ed \"n\" il numero di subsets) il cui generico elemento **$a_{ij}$** è definito come segue:\n",
    "\n",
    "- **1** se i $\\in S_j$ </center>\n",
    "- **0** altrimenti\n",
    "    \n",
    "Sia **x** il **vettore delle variabili** binarie (una per ogni subset $S_j$) la cui componente j-esima **$x_j$** è definita come segue:\n",
    "- **1** se $S_j \\in$ Sol\n",
    "- 0 altrimenti\n",
    "\n",
    "Sia **c** il **vettore dei costi** il cui elemento j-esimo **$c_j$** rappresenta il costo associato alla scelta del subset $S_j$. Esso risulta necessario alla definizione della **funzione obiettivo**, ovvero la minimizzazione del costo complessivo della soluzione: \n",
    "\n",
    "\\begin{equation}\n",
    "\\sum_{j \\in n} c_j x_j \n",
    "\\end{equation}\n",
    "\n",
    "Dunque è possibile formulare un problema di Set Covering nella seguente maniera compatta:\n",
    "\n",
    "\\begin{equation}\n",
    "min \\;\\; c^{T} x \\\\\n",
    "A x \\geq 1 \\\\\n",
    "x \\in \\{0,1\\}^n \\\\\n",
    "\\end{equation}"
   ]
  },
  {
   "cell_type": "markdown",
   "id": "4cb5375e",
   "metadata": {},
   "source": [
    "## <center> Risoluzione all'ottimo (Gurobi) </center>\n",
    "\n",
    "Importazione degli elementi di libreria di **Gurobi Optimizer** utili alla definizione del modello e alla risoluzione del problema (GRB), importazione della libreria numpy per l'algebra lineare. I dati del problema sono contenuti in un file di testo che deve essere essere opportunamente aperto (funzione open) e interpretato successivamente."
   ]
  },
  {
   "cell_type": "code",
   "execution_count": 1,
   "id": "21dae2f8",
   "metadata": {},
   "outputs": [],
   "source": [
    "import gurobipy as gp\n",
    "from gurobipy import GRB\n",
    "import numpy as np\n",
    "import time \n",
    "import matplotlib.pyplot as plt\n",
    "import math "
   ]
  },
  {
   "cell_type": "code",
   "execution_count": 2,
   "id": "a60058e0",
   "metadata": {},
   "outputs": [],
   "source": [
    "filename_1 = \"tdp1.txt\"\n",
    "filename_2 = \"scp41.txt\"\n",
    "filename_3 = \"scp51.txt\"\n",
    "file = open(filename_3) "
   ]
  },
  {
   "cell_type": "markdown",
   "id": "16f42a4a",
   "metadata": {},
   "source": [
    "### <center> Definizione del modello </center>\n",
    "\n",
    "Lettura delle dimensioni m (num_righe) e n (num_colonne) della matrice di copertura A e degli elementi $a_ij$ (letti ed inseriti in una lista di interi) usati per popolarla. Definizione del vettore dei costi associati ai subsets."
   ]
  },
  {
   "cell_type": "code",
   "execution_count": 3,
   "id": "a1af75b9",
   "metadata": {},
   "outputs": [],
   "source": [
    "linea= file.readline() \n",
    "riga_0=linea.split()\n",
    "num_righe=int(riga_0[0]) \n",
    "num_colonne=int(riga_0[1]) \n",
    "\n",
    "Dati = []  \n",
    "while True:\n",
    "    linea = file.readline().split()\n",
    "    if not linea: #data==null-->EOF\n",
    "        break\n",
    "    for i in range(len(linea)):\n",
    "        Dati.append(int(linea[i]))\n",
    "        \n",
    "costi_Sj = []  \n",
    "for i in range(num_colonne):\n",
    "    costi_Sj.append(Dati[i]) \n",
    "    \n",
    "A = np.zeros((num_righe, num_colonne))\n",
    "#indice da cui partire a leggere Dati \n",
    "#(num colonne che coprono la riga 0)\n",
    "start_index = num_colonne \n",
    "\n",
    "for i in range(num_righe): \n",
    "    num_coperture = Dati[start_index]\n",
    "    start_index = start_index + 1\n",
    "    for j in range(num_coperture):\n",
    "         #1 in corrispondenza dei Subset Sj che coprono la riga i-esima\n",
    "        A[i][Dati[start_index+j]-1]=1\n",
    "    #indice del numero di coperture per la successiva riga\n",
    "    start_index = start_index+num_coperture "
   ]
  },
  {
   "cell_type": "markdown",
   "id": "35bf95b3",
   "metadata": {},
   "source": [
    "Inizializzazione del modello, creazione delle **variabili decisionali** $x_j$ del problema, definizione della **funzione obiettivo** e aggiunta dei constraints del problema."
   ]
  },
  {
   "cell_type": "code",
   "execution_count": 4,
   "id": "307b8f80",
   "metadata": {},
   "outputs": [],
   "source": [
    "#Inizializzazione modello \n",
    "mod = gp.Model('SetCoveringOttimo')\n",
    "\n",
    "#vettore variabili decisionali\n",
    "num_Xvars=range(num_colonne)\n",
    "Xvars= mod.addVars(num_Xvars, name='X', vtype=GRB.BINARY)\n",
    "\n",
    "#Funzione obiettivo\n",
    "obj = gp.quicksum(costi_Sj[i]*Xvars[i] for i in num_Xvars) \n",
    "mod.setObjective(obj, GRB.MINIMIZE)\n",
    "\n",
    "#Vincoli del problema\n",
    "A=A.tolist()\n",
    "Constr= mod.addConstrs((Xvars.prod(A[i])>=1 for i in range(num_righe)))"
   ]
  },
  {
   "cell_type": "markdown",
   "id": "06bb00a8",
   "metadata": {},
   "source": [
    "### <center> Risoluzione ottima </center>\n",
    "\n",
    "**Risoluzione all'ottimo** del problema (appena modellato) utilizzando il modulo **optimize**, con conseguente print della (o di una) soluzione ottima (nel caso in cui sia stata trovata)"
   ]
  },
  {
   "cell_type": "code",
   "execution_count": 5,
   "id": "fb8ad22c",
   "metadata": {},
   "outputs": [
    {
     "name": "stdout",
     "output_type": "stream",
     "text": [
      "Gurobi Optimizer version 9.5.1 build v9.5.1rc2 (win64)\n",
      "Thread count: 4 physical cores, 8 logical processors, using up to 8 threads\n",
      "Optimize a model with 200 rows, 2000 columns and 7995 nonzeros\n",
      "Model fingerprint: 0x3867c20a\n",
      "Variable types: 0 continuous, 2000 integer (2000 binary)\n",
      "Coefficient statistics:\n",
      "  Matrix range     [1e+00, 1e+00]\n",
      "  Objective range  [1e+00, 1e+02]\n",
      "  Bounds range     [1e+00, 1e+00]\n",
      "  RHS range        [1e+00, 1e+00]\n",
      "Found heuristic solution: objective 6643.0000000\n",
      "Presolve removed 3 rows and 1797 columns\n",
      "Presolve time: 0.03s\n",
      "Presolved: 197 rows, 203 columns, 1000 nonzeros\n",
      "Found heuristic solution: objective 261.0000000\n",
      "Variable types: 0 continuous, 203 integer (203 binary)\n",
      "\n",
      "Root relaxation: objective 2.512250e+02, 227 iterations, 0.00 seconds (0.00 work units)\n",
      "\n",
      "    Nodes    |    Current Node    |     Objective Bounds      |     Work\n",
      " Expl Unexpl |  Obj  Depth IntInf | Incumbent    BestBd   Gap | It/Node Time\n",
      "\n",
      "     0     0  251.22500    0   58  261.00000  251.22500  3.75%     -    0s\n",
      "H    0     0                     257.0000000  251.22500  2.25%     -    0s\n",
      "H    0     0                     254.0000000  252.00000  0.79%     -    0s\n",
      "H    0     0                     253.0000000  252.00000  0.40%     -    0s\n",
      "     0     0  253.00000    0   62  253.00000  253.00000  0.00%     -    0s\n",
      "\n",
      "Cutting planes:\n",
      "  Gomory: 2\n",
      "  Zero half: 7\n",
      "\n",
      "Explored 1 nodes (243 simplex iterations) in 0.15 seconds (0.02 work units)\n",
      "Thread count was 8 (of 8 available processors)\n",
      "\n",
      "Solution count 5: 253 254 257 ... 6643\n",
      "\n",
      "Optimal solution found (tolerance 1.00e-04)\n",
      "Best objective 2.530000000000e+02, best bound 2.530000000000e+02, gap 0.0000%\n"
     ]
    }
   ],
   "source": [
    "mod.optimize()"
   ]
  },
  {
   "cell_type": "code",
   "execution_count": 6,
   "id": "95b1ab2b",
   "metadata": {},
   "outputs": [
    {
     "name": "stdout",
     "output_type": "stream",
     "text": [
      "Valore soluzione: 253\n",
      "<class 'gurobipy.tupledict'>\n",
      "Soluzione:  {0: 1.0, 1: 1.0, 2: 1.0, 3: 1.0, 4: 1.0, 5: 1.0, 6: 1.0, 7: 0.0, 8: -0.0, 9: 1.0, 10: 1.0, 11: 1.0, 12: 1.0, 13: 1.0, 14: 0.0, 15: 1.0, 16: -0.0, 17: 1.0, 18: 0.0, 19: 0.0, 20: 0.0, 21: -0.0, 22: -0.0, 23: 1.0, 24: 1.0, 25: 1.0, 26: 1.0, 27: 1.0, 28: 1.0, 29: -0.0, 30: 1.0, 31: 1.0, 32: 1.0, 33: 1.0, 34: 1.0, 35: 0.0, 36: 1.0, 37: -0.0, 38: 0.0, 39: 0.0, 40: -0.0, 41: 1.0, 42: 1.0, 43: 0.0, 44: 1.0, 45: 0.0, 46: 1.0, 47: 1.0, 48: 0.0, 49: 1.0, 50: 1.0, 51: 0.0, 52: -0.0, 53: -0.0, 54: 0.0, 55: -0.0, 56: 1.0, 57: 0.0, 58: 0.0, 59: 0.0, 60: 1.0, 61: -0.0, 62: 0.0, 63: 0.0, 64: 1.0, 65: -0.0, 66: -0.0, 67: 0.0, 68: 1.0, 69: -0.0, 70: -0.0, 71: 1.0, 72: -0.0, 73: 1.0, 74: 1.0, 75: 1.0, 76: 1.0, 77: 0.0, 78: 0.0, 79: 1.0, 80: 1.0, 81: 0.0, 82: 0.0, 83: 0.0, 84: 1.0, 85: 1.0, 86: 1.0, 87: 1.0, 88: 0.0, 89: 0.0, 90: 1.0, 91: 0.0, 92: -0.0, 93: -0.0, 94: -0.0, 95: -0.0, 96: -0.0, 97: 0.0, 98: -0.0, 99: 0.0, 100: -0.0, 101: 0.0, 102: -0.0, 103: 0.0, 104: 1.0, 105: 0.0, 106: -0.0, 107: -0.0, 108: -0.0, 109: 0.0, 110: 0.0, 111: -0.0, 112: -0.0, 113: -0.0, 114: 0.0, 115: 0.0, 116: -0.0, 117: 0.0, 118: 0.0, 119: 0.0, 120: 0.0, 121: -0.0, 122: -0.0, 123: -0.0, 124: 1.0, 125: -0.0, 126: 1.0, 127: 0.0, 128: 0.0, 129: -0.0, 130: -0.0, 131: -0.0, 132: 0.0, 133: 0.0, 134: 0.0, 135: 0.0, 136: 1.0, 137: 1.0, 138: 0.0, 139: 0.0, 140: -0.0, 141: -0.0, 142: 0.0, 143: -0.0, 144: -0.0, 145: -0.0, 146: 0.0, 147: -0.0, 148: -0.0, 149: 0.0, 150: 0.0, 151: 0.0, 152: 0.0, 153: 0.0, 154: 1.0, 155: -0.0, 156: 0.0, 157: 0.0, 158: 0.0, 159: 1.0, 160: 0.0, 161: -0.0, 162: 0.0, 163: 0.0, 164: -0.0, 165: -0.0, 166: 0.0, 167: -0.0, 168: -0.0, 169: -0.0, 170: -0.0, 171: -0.0, 172: -0.0, 173: 0.0, 174: 0.0, 175: 1.0, 176: 0.0, 177: -0.0, 178: 1.0, 179: -0.0, 180: 0.0, 181: -0.0, 182: 0.0, 183: 0.0, 184: 0.0, 185: -0.0, 186: 0.0, 187: 0.0, 188: 0.0, 189: 0.0, 190: 0.0, 191: 0.0, 192: 0.0, 193: 0.0, 194: 1.0, 195: 0.0, 196: 0.0, 197: 0.0, 198: -0.0, 199: 0.0, 200: 0.0, 201: -0.0, 202: -0.0, 203: 0.0, 204: -0.0, 205: 0.0, 206: 0.0, 207: 0.0, 208: -0.0, 209: -0.0, 210: -0.0, 211: -0.0, 212: -0.0, 213: 0.0, 214: -0.0, 215: -0.0, 216: -0.0, 217: 0.0, 218: -0.0, 219: -0.0, 220: -0.0, 221: -0.0, 222: -0.0, 223: -0.0, 224: 0.0, 225: 0.0, 226: 0.0, 227: 0.0, 228: 0.0, 229: 0.0, 230: 0.0, 231: 0.0, 232: 0.0, 233: -0.0, 234: 0.0, 235: 0.0, 236: 0.0, 237: 0.0, 238: 0.0, 239: 0.0, 240: 0.0, 241: -0.0, 242: -0.0, 243: 0.0, 244: 0.0, 245: -0.0, 246: 0.0, 247: 0.0, 248: 0.0, 249: -0.0, 250: 0.0, 251: 0.0, 252: 0.0, 253: 0.0, 254: 0.0, 255: 0.0, 256: 0.0, 257: 0.0, 258: 0.0, 259: 0.0, 260: 0.0, 261: 1.0, 262: -0.0, 263: 0.0, 264: -0.0, 265: 0.0, 266: 0.0, 267: 0.0, 268: -0.0, 269: 0.0, 270: 0.0, 271: 0.0, 272: 0.0, 273: 0.0, 274: 0.0, 275: 0.0, 276: 0.0, 277: 0.0, 278: 0.0, 279: 0.0, 280: 0.0, 281: 0.0, 282: 0.0, 283: 0.0, 284: -0.0, 285: 0.0, 286: 0.0, 287: 1.0, 288: 0.0, 289: -0.0, 290: -0.0, 291: 0.0, 292: 0.0, 293: 0.0, 294: 0.0, 295: 0.0, 296: 0.0, 297: 0.0, 298: 0.0, 299: 0.0, 300: 0.0, 301: 0.0, 302: 0.0, 303: 0.0, 304: 0.0, 305: 0.0, 306: 0.0, 307: 0.0, 308: 0.0, 309: 0.0, 310: 0.0, 311: 0.0, 312: 0.0, 313: -0.0, 314: -0.0, 315: 0.0, 316: 0.0, 317: 0.0, 318: -0.0, 319: 0.0, 320: 0.0, 321: 0.0, 322: 0.0, 323: 0.0, 324: 0.0, 325: 0.0, 326: 0.0, 327: 0.0, 328: 0.0, 329: -0.0, 330: 0.0, 331: 0.0, 332: 0.0, 333: 0.0, 334: 0.0, 335: 0.0, 336: 0.0, 337: 0.0, 338: 0.0, 339: 0.0, 340: 0.0, 341: 0.0, 342: 0.0, 343: -0.0, 344: 0.0, 345: 0.0, 346: 0.0, 347: 0.0, 348: 0.0, 349: 0.0, 350: 0.0, 351: 0.0, 352: 0.0, 353: 0.0, 354: 0.0, 355: 0.0, 356: 0.0, 357: 0.0, 358: 0.0, 359: 0.0, 360: 0.0, 361: 0.0, 362: 0.0, 363: 0.0, 364: 0.0, 365: 0.0, 366: 0.0, 367: 1.0, 368: -0.0, 369: -0.0, 370: 0.0, 371: 0.0, 372: 0.0, 373: 0.0, 374: 0.0, 375: 0.0, 376: 0.0, 377: 0.0, 378: 0.0, 379: 0.0, 380: 0.0, 381: 0.0, 382: -0.0, 383: -0.0, 384: 0.0, 385: 0.0, 386: 0.0, 387: 0.0, 388: 0.0, 389: 0.0, 390: 0.0, 391: 0.0, 392: 0.0, 393: 0.0, 394: 0.0, 395: 0.0, 396: 0.0, 397: 0.0, 398: -0.0, 399: 0.0, 400: 0.0, 401: 0.0, 402: 0.0, 403: 0.0, 404: 0.0, 405: 0.0, 406: 0.0, 407: 0.0, 408: 0.0, 409: 0.0, 410: -0.0, 411: 0.0, 412: 0.0, 413: -0.0, 414: 0.0, 415: 0.0, 416: 0.0, 417: 0.0, 418: 0.0, 419: 0.0, 420: 0.0, 421: 0.0, 422: 0.0, 423: 0.0, 424: 0.0, 425: -0.0, 426: 0.0, 427: 0.0, 428: 0.0, 429: 0.0, 430: 0.0, 431: 0.0, 432: 0.0, 433: 0.0, 434: 0.0, 435: 0.0, 436: 0.0, 437: 0.0, 438: 0.0, 439: 0.0, 440: 0.0, 441: 0.0, 442: 0.0, 443: 0.0, 444: 0.0, 445: 0.0, 446: 0.0, 447: 0.0, 448: 0.0, 449: 0.0, 450: 0.0, 451: 0.0, 452: 0.0, 453: 0.0, 454: 0.0, 455: 0.0, 456: 0.0, 457: 0.0, 458: 0.0, 459: 0.0, 460: 0.0, 461: 0.0, 462: 0.0, 463: 0.0, 464: 0.0, 465: 0.0, 466: -0.0, 467: 0.0, 468: 0.0, 469: 0.0, 470: 0.0, 471: 0.0, 472: 0.0, 473: 0.0, 474: 0.0, 475: 0.0, 476: 0.0, 477: 0.0, 478: 0.0, 479: 0.0, 480: 0.0, 481: 0.0, 482: 0.0, 483: 0.0, 484: 0.0, 485: 0.0, 486: 0.0, 487: 0.0, 488: 0.0, 489: 0.0, 490: 0.0, 491: 0.0, 492: 0.0, 493: 0.0, 494: 0.0, 495: 0.0, 496: 0.0, 497: 0.0, 498: 0.0, 499: 0.0, 500: 0.0, 501: 0.0, 502: 0.0, 503: 0.0, 504: 0.0, 505: 0.0, 506: 0.0, 507: 0.0, 508: 0.0, 509: 0.0, 510: 0.0, 511: 0.0, 512: 0.0, 513: 0.0, 514: 0.0, 515: 0.0, 516: 0.0, 517: 0.0, 518: 0.0, 519: 0.0, 520: 0.0, 521: 0.0, 522: 0.0, 523: 0.0, 524: 0.0, 525: 0.0, 526: 0.0, 527: 0.0, 528: 0.0, 529: 0.0, 530: 0.0, 531: -0.0, 532: 0.0, 533: 0.0, 534: 0.0, 535: 0.0, 536: 0.0, 537: 0.0, 538: 0.0, 539: 0.0, 540: 0.0, 541: 0.0, 542: 0.0, 543: 0.0, 544: 0.0, 545: 0.0, 546: 0.0, 547: 0.0, 548: 0.0, 549: 0.0, 550: 0.0, 551: 0.0, 552: 0.0, 553: 0.0, 554: 0.0, 555: 0.0, 556: 0.0, 557: 0.0, 558: 0.0, 559: 0.0, 560: -0.0, 561: 0.0, 562: 0.0, 563: 0.0, 564: 0.0, 565: 0.0, 566: 0.0, 567: 0.0, 568: 0.0, 569: 0.0, 570: 0.0, 571: 0.0, 572: 0.0, 573: 0.0, 574: 0.0, 575: 0.0, 576: 0.0, 577: 0.0, 578: 0.0, 579: 0.0, 580: 0.0, 581: 0.0, 582: 0.0, 583: 0.0, 584: 0.0, 585: 0.0, 586: 0.0, 587: 0.0, 588: 0.0, 589: 0.0, 590: 0.0, 591: 0.0, 592: 0.0, 593: 0.0, 594: 0.0, 595: 0.0, 596: 0.0, 597: 0.0, 598: 0.0, 599: 0.0, 600: 0.0, 601: 0.0, 602: 0.0, 603: 0.0, 604: 0.0, 605: 0.0, 606: 0.0, 607: 0.0, 608: 0.0, 609: 0.0, 610: 0.0, 611: 0.0, 612: 0.0, 613: 0.0, 614: 0.0, 615: 0.0, 616: 0.0, 617: 0.0, 618: 0.0, 619: 0.0, 620: 0.0, 621: 0.0, 622: 0.0, 623: 0.0, 624: 0.0, 625: 0.0, 626: 0.0, 627: 0.0, 628: 0.0, 629: 0.0, 630: 0.0, 631: 0.0, 632: 0.0, 633: 0.0, 634: 0.0, 635: 0.0, 636: 0.0, 637: 0.0, 638: 0.0, 639: 0.0, 640: 0.0, 641: 0.0, 642: 0.0, 643: 0.0, 644: 0.0, 645: 0.0, 646: 0.0, 647: 0.0, 648: 0.0, 649: 0.0, 650: 0.0, 651: 0.0, 652: 0.0, 653: 0.0, 654: 0.0, 655: 0.0, 656: 0.0, 657: 0.0, 658: 0.0, 659: 0.0, 660: 0.0, 661: 0.0, 662: 0.0, 663: 0.0, 664: 0.0, 665: 0.0, 666: 0.0, 667: 0.0, 668: 0.0, 669: 0.0, 670: 0.0, 671: 0.0, 672: 0.0, 673: 0.0, 674: 0.0, 675: 0.0, 676: 0.0, 677: 0.0, 678: 0.0, 679: 0.0, 680: 0.0, 681: 0.0, 682: 0.0, 683: 0.0, 684: 0.0, 685: 0.0, 686: 0.0, 687: 0.0, 688: 0.0, 689: 0.0, 690: 0.0, 691: 0.0, 692: 0.0, 693: 0.0, 694: 0.0, 695: 0.0, 696: 0.0, 697: 0.0, 698: 0.0, 699: 0.0, 700: 0.0, 701: 0.0, 702: 0.0, 703: 0.0, 704: 0.0, 705: 0.0, 706: 0.0, 707: 0.0, 708: 0.0, 709: 0.0, 710: 0.0, 711: 0.0, 712: 0.0, 713: 0.0, 714: 0.0, 715: 0.0, 716: 0.0, 717: 0.0, 718: 0.0, 719: 0.0, 720: 0.0, 721: 0.0, 722: 0.0, 723: 0.0, 724: 0.0, 725: 0.0, 726: 0.0, 727: 0.0, 728: 0.0, 729: 0.0, 730: 0.0, 731: 0.0, 732: 0.0, 733: 0.0, 734: 0.0, 735: 0.0, 736: 0.0, 737: 0.0, 738: 0.0, 739: 0.0, 740: 0.0, 741: 0.0, 742: 0.0, 743: 0.0, 744: 0.0, 745: 0.0, 746: 0.0, 747: 0.0, 748: 0.0, 749: 0.0, 750: 0.0, 751: 0.0, 752: 0.0, 753: 0.0, 754: 0.0, 755: 0.0, 756: 0.0, 757: 0.0, 758: 0.0, 759: 0.0, 760: 0.0, 761: 0.0, 762: 0.0, 763: 0.0, 764: 0.0, 765: 0.0, 766: 0.0, 767: 0.0, 768: 0.0, 769: 0.0, 770: 0.0, 771: 0.0, 772: 0.0, 773: 0.0, 774: 0.0, 775: 0.0, 776: 0.0, 777: 0.0, 778: 0.0, 779: 0.0, 780: 0.0, 781: 0.0, 782: 0.0, 783: 0.0, 784: 0.0, 785: 0.0, 786: 0.0, 787: 0.0, 788: 0.0, 789: 0.0, 790: 0.0, 791: 0.0, 792: 0.0, 793: 0.0, 794: 0.0, 795: 0.0, 796: 0.0, 797: 0.0, 798: 0.0, 799: 0.0, 800: 0.0, 801: 0.0, 802: 0.0, 803: 0.0, 804: 0.0, 805: 0.0, 806: 0.0, 807: 0.0, 808: 0.0, 809: 0.0, 810: 0.0, 811: 0.0, 812: 0.0, 813: 0.0, 814: 0.0, 815: 0.0, 816: 0.0, 817: 0.0, 818: 0.0, 819: 0.0, 820: 0.0, 821: 0.0, 822: 0.0, 823: 0.0, 824: 0.0, 825: 0.0, 826: 0.0, 827: 0.0, 828: 0.0, 829: 0.0, 830: 0.0, 831: 0.0, 832: 0.0, 833: 0.0, 834: 0.0, 835: 0.0, 836: 0.0, 837: 0.0, 838: 0.0, 839: 0.0, 840: 0.0, 841: 0.0, 842: 0.0, 843: 0.0, 844: 0.0, 845: 0.0, 846: 0.0, 847: 0.0, 848: 0.0, 849: 0.0, 850: 0.0, 851: 0.0, 852: 0.0, 853: 0.0, 854: 0.0, 855: 0.0, 856: 0.0, 857: 0.0, 858: 0.0, 859: 0.0, 860: 0.0, 861: 0.0, 862: 0.0, 863: 0.0, 864: 0.0, 865: 0.0, 866: 0.0, 867: 0.0, 868: 0.0, 869: 0.0, 870: 0.0, 871: 0.0, 872: 0.0, 873: 0.0, 874: 0.0, 875: 0.0, 876: 0.0, 877: 0.0, 878: 0.0, 879: 0.0, 880: 0.0, 881: 0.0, 882: 0.0, 883: 0.0, 884: 0.0, 885: 0.0, 886: 0.0, 887: 0.0, 888: 0.0, 889: 0.0, 890: 0.0, 891: 0.0, 892: 0.0, 893: 0.0, 894: 0.0, 895: 0.0, 896: 0.0, 897: 0.0, 898: 0.0, 899: 0.0, 900: 0.0, 901: 0.0, 902: 0.0, 903: 0.0, 904: 0.0, 905: 0.0, 906: 0.0, 907: 0.0, 908: 0.0, 909: 0.0, 910: 0.0, 911: 0.0, 912: 0.0, 913: 0.0, 914: 0.0, 915: 0.0, 916: 0.0, 917: 0.0, 918: 0.0, 919: 0.0, 920: 0.0, 921: 0.0, 922: 0.0, 923: 0.0, 924: 0.0, 925: 0.0, 926: 0.0, 927: 0.0, 928: 0.0, 929: 0.0, 930: 0.0, 931: 0.0, 932: 0.0, 933: 0.0, 934: 0.0, 935: 0.0, 936: 0.0, 937: 0.0, 938: 0.0, 939: 0.0, 940: 0.0, 941: 0.0, 942: 0.0, 943: 0.0, 944: 0.0, 945: 0.0, 946: 0.0, 947: 0.0, 948: 0.0, 949: 0.0, 950: 0.0, 951: 0.0, 952: 0.0, 953: 0.0, 954: 0.0, 955: 0.0, 956: 0.0, 957: 0.0, 958: 0.0, 959: 0.0, 960: 0.0, 961: 0.0, 962: 0.0, 963: 0.0, 964: 0.0, 965: 0.0, 966: 0.0, 967: 0.0, 968: 0.0, 969: 0.0, 970: 0.0, 971: 0.0, 972: 0.0, 973: 0.0, 974: 0.0, 975: 0.0, 976: 0.0, 977: 0.0, 978: 0.0, 979: 0.0, 980: 0.0, 981: 0.0, 982: 0.0, 983: 0.0, 984: 0.0, 985: 0.0, 986: 0.0, 987: 0.0, 988: 0.0, 989: 0.0, 990: 0.0, 991: 0.0, 992: 0.0, 993: 0.0, 994: 0.0, 995: 0.0, 996: 0.0, 997: 0.0, 998: 0.0, 999: 0.0, 1000: 0.0, 1001: 0.0, 1002: 0.0, 1003: 0.0, 1004: 0.0, 1005: 0.0, 1006: 0.0, 1007: 0.0, 1008: 0.0, 1009: 0.0, 1010: 0.0, 1011: 0.0, 1012: 0.0, 1013: 0.0, 1014: 0.0, 1015: 0.0, 1016: 0.0, 1017: 0.0, 1018: 0.0, 1019: 0.0, 1020: 0.0, 1021: 0.0, 1022: 0.0, 1023: 0.0, 1024: 0.0, 1025: 0.0, 1026: 0.0, 1027: 0.0, 1028: 0.0, 1029: 0.0, 1030: 0.0, 1031: 0.0, 1032: 0.0, 1033: 0.0, 1034: 0.0, 1035: 0.0, 1036: 0.0, 1037: 0.0, 1038: 0.0, 1039: 0.0, 1040: 0.0, 1041: 0.0, 1042: 0.0, 1043: 0.0, 1044: 0.0, 1045: 0.0, 1046: 0.0, 1047: 0.0, 1048: 0.0, 1049: 0.0, 1050: 0.0, 1051: 0.0, 1052: 0.0, 1053: 0.0, 1054: 0.0, 1055: 0.0, 1056: 0.0, 1057: 0.0, 1058: 0.0, 1059: 0.0, 1060: 0.0, 1061: 0.0, 1062: 0.0, 1063: 0.0, 1064: 0.0, 1065: 0.0, 1066: 0.0, 1067: 0.0, 1068: 0.0, 1069: 0.0, 1070: 0.0, 1071: 0.0, 1072: 0.0, 1073: 0.0, 1074: 0.0, 1075: 0.0, 1076: 0.0, 1077: 0.0, 1078: 0.0, 1079: 0.0, 1080: 0.0, 1081: 0.0, 1082: 0.0, 1083: 0.0, 1084: 0.0, 1085: 0.0, 1086: 0.0, 1087: 0.0, 1088: 0.0, 1089: 0.0, 1090: 0.0, 1091: 0.0, 1092: 0.0, 1093: 0.0, 1094: 0.0, 1095: 0.0, 1096: 0.0, 1097: 0.0, 1098: 0.0, 1099: 0.0, 1100: 0.0, 1101: 0.0, 1102: 0.0, 1103: 0.0, 1104: 0.0, 1105: 0.0, 1106: 0.0, 1107: 0.0, 1108: 0.0, 1109: 0.0, 1110: 0.0, 1111: 0.0, 1112: 0.0, 1113: 0.0, 1114: 0.0, 1115: 0.0, 1116: 0.0, 1117: 0.0, 1118: 0.0, 1119: 0.0, 1120: 0.0, 1121: 0.0, 1122: 0.0, 1123: 0.0, 1124: 0.0, 1125: 0.0, 1126: 0.0, 1127: 0.0, 1128: 0.0, 1129: 0.0, 1130: 0.0, 1131: 0.0, 1132: 0.0, 1133: 0.0, 1134: 0.0, 1135: 0.0, 1136: 0.0, 1137: 0.0, 1138: 0.0, 1139: 0.0, 1140: 0.0, 1141: 0.0, 1142: 0.0, 1143: 0.0, 1144: 0.0, 1145: 0.0, 1146: 0.0, 1147: 0.0, 1148: 0.0, 1149: 0.0, 1150: 0.0, 1151: 0.0, 1152: 0.0, 1153: 0.0, 1154: 0.0, 1155: 0.0, 1156: 0.0, 1157: 0.0, 1158: 0.0, 1159: 0.0, 1160: 0.0, 1161: 0.0, 1162: 0.0, 1163: 0.0, 1164: 0.0, 1165: 0.0, 1166: 0.0, 1167: 0.0, 1168: 0.0, 1169: 0.0, 1170: 0.0, 1171: 0.0, 1172: 0.0, 1173: 0.0, 1174: 0.0, 1175: 0.0, 1176: 0.0, 1177: 0.0, 1178: 0.0, 1179: 0.0, 1180: 0.0, 1181: 0.0, 1182: 0.0, 1183: 0.0, 1184: 0.0, 1185: 0.0, 1186: 0.0, 1187: 0.0, 1188: 0.0, 1189: 0.0, 1190: 0.0, 1191: 0.0, 1192: 0.0, 1193: 0.0, 1194: 0.0, 1195: 0.0, 1196: 0.0, 1197: 0.0, 1198: 0.0, 1199: 0.0, 1200: 0.0, 1201: 0.0, 1202: 0.0, 1203: 0.0, 1204: 0.0, 1205: 0.0, 1206: 0.0, 1207: 0.0, 1208: 0.0, 1209: 0.0, 1210: 0.0, 1211: 0.0, 1212: 0.0, 1213: 0.0, 1214: 0.0, 1215: 0.0, 1216: 0.0, 1217: 0.0, 1218: 0.0, 1219: 0.0, 1220: 0.0, 1221: 0.0, 1222: 0.0, 1223: 0.0, 1224: 0.0, 1225: 0.0, 1226: 0.0, 1227: 0.0, 1228: 0.0, 1229: 0.0, 1230: 0.0, 1231: 0.0, 1232: 0.0, 1233: 0.0, 1234: 0.0, 1235: 0.0, 1236: 0.0, 1237: 0.0, 1238: 0.0, 1239: 0.0, 1240: 0.0, 1241: 0.0, 1242: 0.0, 1243: 0.0, 1244: 0.0, 1245: 0.0, 1246: 0.0, 1247: 0.0, 1248: 0.0, 1249: 0.0, 1250: 0.0, 1251: 0.0, 1252: 0.0, 1253: 0.0, 1254: 0.0, 1255: 0.0, 1256: 0.0, 1257: 0.0, 1258: 0.0, 1259: 0.0, 1260: 0.0, 1261: 0.0, 1262: 0.0, 1263: 0.0, 1264: 0.0, 1265: 0.0, 1266: 0.0, 1267: 0.0, 1268: 0.0, 1269: 0.0, 1270: 0.0, 1271: 0.0, 1272: 0.0, 1273: 0.0, 1274: 0.0, 1275: 0.0, 1276: 0.0, 1277: 0.0, 1278: 0.0, 1279: 0.0, 1280: 0.0, 1281: 0.0, 1282: 0.0, 1283: 0.0, 1284: 0.0, 1285: 0.0, 1286: 0.0, 1287: 0.0, 1288: 0.0, 1289: 0.0, 1290: 0.0, 1291: 0.0, 1292: 0.0, 1293: 0.0, 1294: 0.0, 1295: 0.0, 1296: 0.0, 1297: 0.0, 1298: 0.0, 1299: 0.0, 1300: 0.0, 1301: 0.0, 1302: 0.0, 1303: 0.0, 1304: 0.0, 1305: 0.0, 1306: 0.0, 1307: 0.0, 1308: 0.0, 1309: 0.0, 1310: 0.0, 1311: 0.0, 1312: 0.0, 1313: 0.0, 1314: 0.0, 1315: 0.0, 1316: 0.0, 1317: 0.0, 1318: 0.0, 1319: 0.0, 1320: 0.0, 1321: 0.0, 1322: 0.0, 1323: 0.0, 1324: 0.0, 1325: 0.0, 1326: 0.0, 1327: 0.0, 1328: 0.0, 1329: 0.0, 1330: 0.0, 1331: 0.0, 1332: 0.0, 1333: 0.0, 1334: 0.0, 1335: 0.0, 1336: 0.0, 1337: 0.0, 1338: 0.0, 1339: 0.0, 1340: 0.0, 1341: 0.0, 1342: 0.0, 1343: 0.0, 1344: 0.0, 1345: 0.0, 1346: 0.0, 1347: 0.0, 1348: 0.0, 1349: 0.0, 1350: 0.0, 1351: 0.0, 1352: 0.0, 1353: 0.0, 1354: 0.0, 1355: 0.0, 1356: 0.0, 1357: 0.0, 1358: 0.0, 1359: 0.0, 1360: 0.0, 1361: 0.0, 1362: 0.0, 1363: 0.0, 1364: 0.0, 1365: 0.0, 1366: 0.0, 1367: 0.0, 1368: 0.0, 1369: 0.0, 1370: 0.0, 1371: 0.0, 1372: 0.0, 1373: 0.0, 1374: 0.0, 1375: 0.0, 1376: 0.0, 1377: 0.0, 1378: 0.0, 1379: 0.0, 1380: 0.0, 1381: 0.0, 1382: 0.0, 1383: 0.0, 1384: 0.0, 1385: 0.0, 1386: 0.0, 1387: 0.0, 1388: 0.0, 1389: 0.0, 1390: 0.0, 1391: 0.0, 1392: 0.0, 1393: 0.0, 1394: 0.0, 1395: 0.0, 1396: 0.0, 1397: 0.0, 1398: 0.0, 1399: 0.0, 1400: 0.0, 1401: 0.0, 1402: 0.0, 1403: 0.0, 1404: 0.0, 1405: 0.0, 1406: 0.0, 1407: 0.0, 1408: 0.0, 1409: 0.0, 1410: 0.0, 1411: 0.0, 1412: 0.0, 1413: 0.0, 1414: 0.0, 1415: 0.0, 1416: 0.0, 1417: 0.0, 1418: 0.0, 1419: 0.0, 1420: 0.0, 1421: 0.0, 1422: 0.0, 1423: 0.0, 1424: 0.0, 1425: 0.0, 1426: 0.0, 1427: 0.0, 1428: 0.0, 1429: 0.0, 1430: 0.0, 1431: 0.0, 1432: 0.0, 1433: 0.0, 1434: 0.0, 1435: 0.0, 1436: 0.0, 1437: 0.0, 1438: 0.0, 1439: 0.0, 1440: 0.0, 1441: 0.0, 1442: 0.0, 1443: 0.0, 1444: 0.0, 1445: 0.0, 1446: 0.0, 1447: 0.0, 1448: 0.0, 1449: 0.0, 1450: 0.0, 1451: 0.0, 1452: 0.0, 1453: 0.0, 1454: 0.0, 1455: 0.0, 1456: 0.0, 1457: 0.0, 1458: 0.0, 1459: 0.0, 1460: 0.0, 1461: 0.0, 1462: 0.0, 1463: 0.0, 1464: 0.0, 1465: 0.0, 1466: 0.0, 1467: 0.0, 1468: 0.0, 1469: 0.0, 1470: 0.0, 1471: 0.0, 1472: 0.0, 1473: 0.0, 1474: 0.0, 1475: 0.0, 1476: 0.0, 1477: 0.0, 1478: 0.0, 1479: 0.0, 1480: 0.0, 1481: 0.0, 1482: 0.0, 1483: 0.0, 1484: 0.0, 1485: 0.0, 1486: 0.0, 1487: 0.0, 1488: 0.0, 1489: 0.0, 1490: 0.0, 1491: 0.0, 1492: 0.0, 1493: 0.0, 1494: 0.0, 1495: 0.0, 1496: 0.0, 1497: 0.0, 1498: 0.0, 1499: 0.0, 1500: 0.0, 1501: 0.0, 1502: 0.0, 1503: 0.0, 1504: 0.0, 1505: 0.0, 1506: 0.0, 1507: 0.0, 1508: 0.0, 1509: 0.0, 1510: 0.0, 1511: 0.0, 1512: 0.0, 1513: 0.0, 1514: 0.0, 1515: 0.0, 1516: 0.0, 1517: 0.0, 1518: 0.0, 1519: 0.0, 1520: 0.0, 1521: 0.0, 1522: 0.0, 1523: 0.0, 1524: 0.0, 1525: 0.0, 1526: 0.0, 1527: 0.0, 1528: 0.0, 1529: 0.0, 1530: 0.0, 1531: 0.0, 1532: 0.0, 1533: 0.0, 1534: 0.0, 1535: 0.0, 1536: 0.0, 1537: 0.0, 1538: 0.0, 1539: 0.0, 1540: 0.0, 1541: 0.0, 1542: 0.0, 1543: 0.0, 1544: 0.0, 1545: 0.0, 1546: 0.0, 1547: 0.0, 1548: 0.0, 1549: 0.0, 1550: 0.0, 1551: 0.0, 1552: 0.0, 1553: 0.0, 1554: 0.0, 1555: 0.0, 1556: 0.0, 1557: 0.0, 1558: 0.0, 1559: 0.0, 1560: 0.0, 1561: 0.0, 1562: 0.0, 1563: 0.0, 1564: 0.0, 1565: 0.0, 1566: 0.0, 1567: 0.0, 1568: 0.0, 1569: 0.0, 1570: 0.0, 1571: 0.0, 1572: 0.0, 1573: 0.0, 1574: 0.0, 1575: 0.0, 1576: 0.0, 1577: 0.0, 1578: 0.0, 1579: 0.0, 1580: 0.0, 1581: 0.0, 1582: 0.0, 1583: 0.0, 1584: 0.0, 1585: 0.0, 1586: 0.0, 1587: 0.0, 1588: 0.0, 1589: 0.0, 1590: 0.0, 1591: 0.0, 1592: 0.0, 1593: 0.0, 1594: 0.0, 1595: 0.0, 1596: 0.0, 1597: 0.0, 1598: 0.0, 1599: 0.0, 1600: 0.0, 1601: 0.0, 1602: 0.0, 1603: 0.0, 1604: 0.0, 1605: 0.0, 1606: 0.0, 1607: 0.0, 1608: 0.0, 1609: 0.0, 1610: 0.0, 1611: 0.0, 1612: 0.0, 1613: 0.0, 1614: 0.0, 1615: 0.0, 1616: 0.0, 1617: 0.0, 1618: 0.0, 1619: 0.0, 1620: 0.0, 1621: 0.0, 1622: 0.0, 1623: 0.0, 1624: 0.0, 1625: 0.0, 1626: 0.0, 1627: 0.0, 1628: 0.0, 1629: 0.0, 1630: 0.0, 1631: 0.0, 1632: 0.0, 1633: 0.0, 1634: 0.0, 1635: 0.0, 1636: 0.0, 1637: 0.0, 1638: 0.0, 1639: 0.0, 1640: 0.0, 1641: 0.0, 1642: 0.0, 1643: 0.0, 1644: 0.0, 1645: 0.0, 1646: 0.0, 1647: 0.0, 1648: 0.0, 1649: 0.0, 1650: 0.0, 1651: 0.0, 1652: 0.0, 1653: 0.0, 1654: 0.0, 1655: 0.0, 1656: 0.0, 1657: 0.0, 1658: 0.0, 1659: 0.0, 1660: 0.0, 1661: 0.0, 1662: 0.0, 1663: 0.0, 1664: 0.0, 1665: 0.0, 1666: 0.0, 1667: 0.0, 1668: 0.0, 1669: 0.0, 1670: 0.0, 1671: 0.0, 1672: 0.0, 1673: 0.0, 1674: 0.0, 1675: 0.0, 1676: 0.0, 1677: 0.0, 1678: 0.0, 1679: 0.0, 1680: 0.0, 1681: 0.0, 1682: 0.0, 1683: 0.0, 1684: 0.0, 1685: 0.0, 1686: 0.0, 1687: 0.0, 1688: 0.0, 1689: 0.0, 1690: 0.0, 1691: 0.0, 1692: 0.0, 1693: 0.0, 1694: 0.0, 1695: 0.0, 1696: 0.0, 1697: 0.0, 1698: 0.0, 1699: 0.0, 1700: 0.0, 1701: 0.0, 1702: 0.0, 1703: 0.0, 1704: 0.0, 1705: 0.0, 1706: 0.0, 1707: 0.0, 1708: 0.0, 1709: 0.0, 1710: 0.0, 1711: 0.0, 1712: 0.0, 1713: 0.0, 1714: 0.0, 1715: 0.0, 1716: 0.0, 1717: 0.0, 1718: 0.0, 1719: 0.0, 1720: 0.0, 1721: 0.0, 1722: 0.0, 1723: 0.0, 1724: 0.0, 1725: 0.0, 1726: 0.0, 1727: 0.0, 1728: 0.0, 1729: 0.0, 1730: 0.0, 1731: 0.0, 1732: 0.0, 1733: 0.0, 1734: 0.0, 1735: 0.0, 1736: 0.0, 1737: 0.0, 1738: 0.0, 1739: 0.0, 1740: 0.0, 1741: 0.0, 1742: 0.0, 1743: 0.0, 1744: 0.0, 1745: 0.0, 1746: 0.0, 1747: 0.0, 1748: 0.0, 1749: 0.0, 1750: 0.0, 1751: 0.0, 1752: 0.0, 1753: 0.0, 1754: 0.0, 1755: 0.0, 1756: 0.0, 1757: 0.0, 1758: 0.0, 1759: 0.0, 1760: 0.0, 1761: 0.0, 1762: 0.0, 1763: 0.0, 1764: 0.0, 1765: 0.0, 1766: 0.0, 1767: 0.0, 1768: 0.0, 1769: 0.0, 1770: 0.0, 1771: 0.0, 1772: 0.0, 1773: 0.0, 1774: 0.0, 1775: 0.0, 1776: 0.0, 1777: 0.0, 1778: 0.0, 1779: 0.0, 1780: 0.0, 1781: 0.0, 1782: 0.0, 1783: 0.0, 1784: 0.0, 1785: 0.0, 1786: 0.0, 1787: 0.0, 1788: 0.0, 1789: 0.0, 1790: 0.0, 1791: 0.0, 1792: 0.0, 1793: 0.0, 1794: 0.0, 1795: 0.0, 1796: 0.0, 1797: 0.0, 1798: 0.0, 1799: 0.0, 1800: 0.0, 1801: 0.0, 1802: 0.0, 1803: 0.0, 1804: 0.0, 1805: 0.0, 1806: 0.0, 1807: 0.0, 1808: 0.0, 1809: 0.0, 1810: 0.0, 1811: 0.0, 1812: 0.0, 1813: 0.0, 1814: 0.0, 1815: 0.0, 1816: 0.0, 1817: 0.0, 1818: 0.0, 1819: 0.0, 1820: 0.0, 1821: 0.0, 1822: 0.0, 1823: 0.0, 1824: 0.0, 1825: 0.0, 1826: 0.0, 1827: 0.0, 1828: 0.0, 1829: 0.0, 1830: 0.0, 1831: 0.0, 1832: 0.0, 1833: 0.0, 1834: 0.0, 1835: 0.0, 1836: 0.0, 1837: 0.0, 1838: 0.0, 1839: 0.0, 1840: 0.0, 1841: 0.0, 1842: 0.0, 1843: 0.0, 1844: 0.0, 1845: 0.0, 1846: 0.0, 1847: 0.0, 1848: 0.0, 1849: 0.0, 1850: 0.0, 1851: 0.0, 1852: 0.0, 1853: 0.0, 1854: 0.0, 1855: 0.0, 1856: 0.0, 1857: 0.0, 1858: 0.0, 1859: 0.0, 1860: 0.0, 1861: 0.0, 1862: 0.0, 1863: 0.0, 1864: 0.0, 1865: 0.0, 1866: 0.0, 1867: 0.0, 1868: 0.0, 1869: 0.0, 1870: 0.0, 1871: 0.0, 1872: 0.0, 1873: 0.0, 1874: 0.0, 1875: 0.0, 1876: 0.0, 1877: 0.0, 1878: 0.0, 1879: 0.0, 1880: 0.0, 1881: 0.0, 1882: 0.0, 1883: 0.0, 1884: 0.0, 1885: 0.0, 1886: 0.0, 1887: 0.0, 1888: 0.0, 1889: 0.0, 1890: 0.0, 1891: 0.0, 1892: 0.0, 1893: 0.0, 1894: 0.0, 1895: 0.0, 1896: 0.0, 1897: 0.0, 1898: 0.0, 1899: 0.0, 1900: 0.0, 1901: 0.0, 1902: 0.0, 1903: 0.0, 1904: 0.0, 1905: 0.0, 1906: 0.0, 1907: 0.0, 1908: 0.0, 1909: 0.0, 1910: 0.0, 1911: 0.0, 1912: 0.0, 1913: 0.0, 1914: 0.0, 1915: 0.0, 1916: 0.0, 1917: 0.0, 1918: 0.0, 1919: 0.0, 1920: 0.0, 1921: 0.0, 1922: 0.0, 1923: 0.0, 1924: 0.0, 1925: 0.0, 1926: 0.0, 1927: 0.0, 1928: 0.0, 1929: 0.0, 1930: 0.0, 1931: 0.0, 1932: 0.0, 1933: 0.0, 1934: 0.0, 1935: 0.0, 1936: 0.0, 1937: 0.0, 1938: 0.0, 1939: 0.0, 1940: 0.0, 1941: 0.0, 1942: 0.0, 1943: 0.0, 1944: 0.0, 1945: 0.0, 1946: 0.0, 1947: 0.0, 1948: 0.0, 1949: 0.0, 1950: 0.0, 1951: 0.0, 1952: 0.0, 1953: 0.0, 1954: 0.0, 1955: 0.0, 1956: 0.0, 1957: 0.0, 1958: 0.0, 1959: 0.0, 1960: 0.0, 1961: 0.0, 1962: 0.0, 1963: 0.0, 1964: 0.0, 1965: 0.0, 1966: 0.0, 1967: 0.0, 1968: 0.0, 1969: 0.0, 1970: 0.0, 1971: 0.0, 1972: 0.0, 1973: 0.0, 1974: 0.0, 1975: 0.0, 1976: 0.0, 1977: 0.0, 1978: 0.0, 1979: 0.0, 1980: 0.0, 1981: 0.0, 1982: 0.0, 1983: 0.0, 1984: 0.0, 1985: 0.0, 1986: 0.0, 1987: 0.0, 1988: 0.0, 1989: 0.0, 1990: 0.0, 1991: 0.0, 1992: 0.0, 1993: 0.0, 1994: 0.0, 1995: 0.0, 1996: 0.0, 1997: 0.0, 1998: 0.0, 1999: 0.0}\n"
     ]
    }
   ],
   "source": [
    "if mod.status == GRB.OPTIMAL:\n",
    "    foundOptimalSol = True\n",
    "    Valore_Ottimo=mod.objVal\n",
    "    print('Valore soluzione: %g' % Valore_Ottimo)\n",
    "    X = mod.getAttr('x', Xvars)\n",
    "    print(type(X))\n",
    "    PrintX = np.zeros(num_colonne)\n",
    "    #for i in num_Xvars:\n",
    "        #if X[i] > 0 :\n",
    "        #print('X(%s) = %g' % (i, X[i]) )\n",
    "    print(\"Soluzione: \", X)"
   ]
  },
  {
   "cell_type": "markdown",
   "id": "d69c4bac",
   "metadata": {},
   "source": [
    "## <center> Risoluzione con Euristica Local Search </center>"
   ]
  },
  {
   "cell_type": "markdown",
   "id": "fed9a1ba",
   "metadata": {},
   "source": [
    "### <center> Funzioni di utilità </center>"
   ]
  },
  {
   "cell_type": "markdown",
   "id": "87405bb5",
   "metadata": {},
   "source": [
    "Funzione per determinazione di una soluzione ammissibile. Restituisce True se la soluzione (la quale ha associata il vettore di copertura righe in ingresso) è ammissibile per il problema di set covering considerato, False altrimenti. \n",
    "( NOTA: il nome deriva dal fatto che è utilizzata dall'algoritmo greedy )"
   ]
  },
  {
   "cell_type": "code",
   "execution_count": 7,
   "id": "1d7fb25f",
   "metadata": {},
   "outputs": [],
   "source": [
    "def is_a_solution_greedy(righe_coperte):\n",
    "    somma=np.sum(righe_coperte)\n",
    "    if somma == len(righe_coperte): \n",
    "        return True\n",
    "    else:\n",
    "        return False"
   ]
  },
  {
   "cell_type": "markdown",
   "id": "bd65cd45",
   "metadata": {},
   "source": [
    "Funzione per determinazione di una soluzione ammissibile a partire dal vettore di copertura delle righe. Restituisce False se è trovata una riga  non coperta (aka un elemento non coperto)"
   ]
  },
  {
   "cell_type": "code",
   "execution_count": 8,
   "id": "fc48f10c",
   "metadata": {},
   "outputs": [],
   "source": [
    "def is_a_solution(righe_coperte, num_righe): \n",
    "    for i in range(num_righe):\n",
    "        if righe_coperte[i]==0:\n",
    "            return False\n",
    "    return True"
   ]
  },
  {
   "cell_type": "markdown",
   "id": "e4ed391b",
   "metadata": {},
   "source": [
    "Funzione per valutare la copertura delle righe. Restituisce una lista il \n",
    "cui elemento i-esimo è il numero di subset Sj che coprono l'elemento i (ovvero la riga i)"
   ]
  },
  {
   "cell_type": "code",
   "execution_count": 9,
   "id": "13b4ca39",
   "metadata": {},
   "outputs": [],
   "source": [
    "def copri_righe(Sol,A, num_righe, num_colonne):\n",
    "    righe_coperte = np.zeros(num_righe)\n",
    "    for i in range(num_colonne):\n",
    "        if(Sol[i]==1):\n",
    "            for j in range(num_righe):\n",
    "                if A[j][i]==1:\n",
    "                    righe_coperte[j]+=1\n",
    "    return righe_coperte"
   ]
  },
  {
   "cell_type": "markdown",
   "id": "6828c0e6",
   "metadata": {},
   "source": [
    "Definizione funzioni per aggiustamento del vettore di copertura delle righe in caso di eliminazione, aggiunta e swap di righe (aka elementi)"
   ]
  },
  {
   "cell_type": "code",
   "execution_count": 10,
   "id": "4cb0dc24",
   "metadata": {},
   "outputs": [],
   "source": [
    "def delete_righe_coperte(righe_coperte,k,A,num_righe):\n",
    "    righe_coperte_delete = np.zeros(num_righe)\n",
    "    for i in range(num_righe):\n",
    "        righe_coperte_delete[i] = righe_coperte[i]\n",
    "        if A[i][k]==1:\n",
    "            righe_coperte_delete[i]-=1\n",
    "    return righe_coperte_delete\n",
    "            \n",
    "def swap_righe_coperte(righe_coperte,h,k,A,num_righe):\n",
    "    righe_coperte_swap = np.zeros(num_righe)\n",
    "    for i in range(num_righe):\n",
    "        righe_coperte_swap[i]=righe_coperte[i]\n",
    "        if A[i][h]==1:\n",
    "            righe_coperte_swap[i]-=1\n",
    "        if A[i][k]==1:\n",
    "            righe_coperte_swap[i]+=1\n",
    "    return righe_coperte_swap\n",
    "\n",
    "def add_righe_coperte(righe_coperte,k,A,num_righe):\n",
    "    righe_coperte_delete=np.zeros(num_righe)\n",
    "    for i in range(num_righe):\n",
    "        righe_coperte_delete[i]=righe_coperte[i]\n",
    "        if A[i][k]==1:\n",
    "            righe_coperte_delete[i]+=1\n",
    "    return righe_coperte_delete"
   ]
  },
  {
   "cell_type": "markdown",
   "id": "a24dc20f",
   "metadata": {},
   "source": [
    "Definizione funzione per aggiunta alla soluzione del subset Sj con il minore rapporto costo/copertura. Il parametro min_index è di uscita, rappresenta l'indice del subset con il rapporto costo/copertura minore"
   ]
  },
  {
   "cell_type": "code",
   "execution_count": 11,
   "id": "9ef42ccd",
   "metadata": {},
   "outputs": [],
   "source": [
    "def aggiungi_set_migliore(Sol,costi_Sj,coperture_Sj,min_index, num_colonne):\n",
    "    costi=np.zeros(num_colonne)\n",
    "    costi_copertura=np.zeros(num_colonne)\n",
    "    for i in range(num_colonne):\n",
    "        if Sol[i]==0:\n",
    "            costi_copertura[i]=costi_Sj[i]/coperture_Sj[i]\n",
    "    min_index=costi_copertura.tolist().index(np.min(costi_copertura[np.nonzero(costi_copertura)]))\n",
    "    Sol[min_index]=1"
   ]
  },
  {
   "cell_type": "markdown",
   "id": "ffcd5ae4",
   "metadata": {},
   "source": [
    "Definizione funzione per il calcolo del valore di una soluzione, fornito il vettore soluzione e il vettore dei costi dei subset (costi_Sj)"
   ]
  },
  {
   "cell_type": "code",
   "execution_count": 12,
   "id": "2c8d9187",
   "metadata": {},
   "outputs": [],
   "source": [
    "def val_sol(Sol,costi_Sj):\n",
    "    val=np.dot(Sol,costi_Sj)\n",
    "    return val\n",
    "def val_sol_elimina(val_sol_iniziale,k,costi_Sj):\n",
    "    new_val=val_sol_iniziale-costi_Sj[k]\n",
    "    return new_val\n",
    "def val_sol_swap(val_sol_iniziale,h,k,costi_Sj):\n",
    "    new_val=val_sol_iniziale-costi_Sj[h]+costi_Sj[k]\n",
    "    return new_val\n",
    "def val_sol_add(val_sol_iniziale,k,costi_Sj):\n",
    "    new_val=val_sol_iniziale+costi_Sj[k]\n",
    "    return new_val"
   ]
  },
  {
   "cell_type": "markdown",
   "id": "3069d559",
   "metadata": {},
   "source": [
    "### <center> Algoritmo Greedy </center>"
   ]
  },
  {
   "cell_type": "markdown",
   "id": "6941d073",
   "metadata": {},
   "source": [
    "Definizione di un algoritmo greedy (algoritmo costruttivo) per la ricerca della soluzione iniziale di un problema, dati in ingresso il vettore soluzione di partenza (parametro di uscita), il vettore dei costi dei subset Sj, il vettore delle righe coperte da ogni Sj nella matrice di copertura. "
   ]
  },
  {
   "cell_type": "code",
   "execution_count": 13,
   "id": "27f9c8fb",
   "metadata": {},
   "outputs": [
    {
     "name": "stdout",
     "output_type": "stream",
     "text": [
      "Soluzione_Greedy: [1. 1. 1. ... 0. 0. 0.]\n",
      "Valore: 1551.0\n",
      "Execution time Algoritmo Greedy: 0.009483098983764648 s\n"
     ]
    }
   ],
   "source": [
    "def Algoritmo_Greedy(Sol_attuale,A,costi_Sj,coperture_Sj, num_righe, num_colonne):\n",
    "    costi_copertura={}\n",
    "    for i in range(num_colonne):\n",
    "        costi_copertura[i]=costi_Sj[i]/coperture_Sj[i]   \n",
    "    costi_copertura_sorted=sorted(costi_copertura.items(), key=lambda x:x[1])\n",
    "    righe_coperte=np.zeros(num_righe)\n",
    "    \n",
    "    while not(is_a_solution_greedy(righe_coperte)):\n",
    "        #aggiungi_set_migliore(Sol_attuale,costi_Sj,coperture_Sj,index, num_colonne)\n",
    "        index=costi_copertura_sorted.pop(0)[0]\n",
    "        Sol_attuale[index]=1\n",
    "        for k in range(num_righe):\n",
    "            if(A[k][index]==1):\n",
    "                righe_coperte[k]=1\n",
    "                \n",
    "#DEBUG\n",
    "Soluzione_Greedy = np.zeros(num_colonne) #Vettore atto a contenere la soluzione Greedy\n",
    "coperture_Sj = np.sum(A, axis=0) #L'elemento j di coperture è la somma di A[i][j] per ogni i\n",
    "temp = coperture_Sj.tolist().copy()\n",
    "st = time.time()\n",
    "Algoritmo_Greedy(Soluzione_Greedy,A,costi_Sj,temp, num_righe, num_colonne)\n",
    "et = time.time()\n",
    "elapsed_time = et - st\n",
    "print(\"Soluzione_Greedy:\",Soluzione_Greedy)\n",
    "print(\"Valore:\", val_sol(Soluzione_Greedy,costi_Sj))\n",
    "print('Execution time Algoritmo Greedy:', elapsed_time,\"s\")"
   ]
  },
  {
   "cell_type": "markdown",
   "id": "d8976ce2",
   "metadata": {},
   "source": [
    "### <center> Euristica di Ricerca Locale </center> "
   ]
  },
  {
   "cell_type": "markdown",
   "id": "62dc2fc1",
   "metadata": {},
   "source": [
    "Definizione delle mosse per la realizzazione di un algoritmo di Ricerca Locale. Mosse:\n",
    "- **Eliminazione** di un subset dalla soluzione attuale\n",
    "- **Aggiunta** di un subset alla soluzione attuale\n",
    "- **Scambio** di un subset non appartente alla soluzione attuale con uno appartente ad essa"
   ]
  },
  {
   "cell_type": "code",
   "execution_count": 14,
   "id": "fe41d879",
   "metadata": {},
   "outputs": [],
   "source": [
    "def elimina_set(Sol,k):\n",
    "    Sol[k]=0\n",
    "    \n",
    "def aggiungi_set(Sol,k):\n",
    "    Sol[k]=1\n",
    "    \n",
    "def scambia_set(Sol,h,k):\n",
    "    elimina_set(Sol,h)\n",
    "    aggiungi_set(Sol,k)"
   ]
  },
  {
   "cell_type": "markdown",
   "id": "048c1150",
   "metadata": {},
   "source": [
    "Procedura di definizione dell'**intorno** nello spazio delle soluzioni, determinato utilizzando iterativamente le mosse precedentemente definite. Tale procedura è utilizzata dalla euristica di ricerca locale per ottenere l'insieme delle soluzioni ammissibili all'interno del quale cercare una soluzione migliore della attuale."
   ]
  },
  {
   "cell_type": "code",
   "execution_count": 15,
   "id": "ebf8866a",
   "metadata": {},
   "outputs": [],
   "source": [
    "def intorno(Sol,A,num_righe,num_colonne,costi_Sj, m):\n",
    "    \n",
    "    righe_coperte_base=np.zeros(num_righe)\n",
    "    righe_coperte_base=copri_righe(Sol,A, num_righe, num_colonne)\n",
    "    soluzioni_vicine=[]\n",
    "    val_sol_iniziale=val_sol(Sol,costi_Sj)\n",
    "    \n",
    "    for i in range(m):\n",
    "        k=np.random.randint(num_colonne)\n",
    "        if(Sol[k]!=0):\n",
    "            new_sol=Sol.copy()\n",
    "            elimina_set(new_sol,k)\n",
    "            righe_coperte_delete=delete_righe_coperte(righe_coperte_base,k,A,num_righe)\n",
    "            if(is_a_solution(righe_coperte_delete, num_righe)):\n",
    "                new_val=val_sol_elimina(val_sol_iniziale,k,costi_Sj)\n",
    "                soluzioni_vicine.append((new_sol,new_val))\n",
    "            \n",
    "    for i in range(m):\n",
    "        k=np.random.randint(num_colonne)\n",
    "        h=np.random.randint(num_colonne)\n",
    "        if(Sol[h]!=0 and Sol[k]!=1):\n",
    "            new_sol2=Sol.copy()\n",
    "            scambia_set(new_sol2,h,k)\n",
    "            righe_coperte_swap=swap_righe_coperte(righe_coperte_base,h,k,A,num_righe)\n",
    "            if(is_a_solution(righe_coperte_swap, num_righe)):\n",
    "                new_val2=val_sol_swap(val_sol_iniziale,h,k,costi_Sj)\n",
    "                soluzioni_vicine.append((new_sol2,new_val2))\n",
    "            \n",
    "    return soluzioni_vicine"
   ]
  },
  {
   "cell_type": "markdown",
   "id": "4b721f96",
   "metadata": {},
   "source": [
    "Definizione della **ricerca locale** con tecnica **BEST IMPROVEMENT**. Una volta valutato l'intorno della soluzione corrente, viene aggiornata la soluzione attuale con la soluzione ammissibile migliore nell'intorno. Tale soluzione ammissibile selezionata deve avere un valore, in tal caso un valore di funzione obiettivo (estimatore), minore (trattandosi di un problema a minimizzazione del costo) della soluzione a partire dalla quale è stato costruito l'intorno, in quanto non si accettano delle iterazioni peggiorative dell'algoritmo stesso. E' da notare che si tratta dunque di una **euristica MIGLIORATIVA**, in quanto, partendo da una soluzione ammissibile, cerca dei miglioramenti di essa al fine di trovare una soluzione ammissibile definitiva migliore."
   ]
  },
  {
   "cell_type": "code",
   "execution_count": 16,
   "id": "3e41c50a",
   "metadata": {},
   "outputs": [],
   "source": [
    "def ricerca_locale(Sol,A,num_righe,num_colonne,costi_Sj,val_soluzioni,continua=True):\n",
    "    \n",
    "    vecchia_soluzione=Sol\n",
    "    valore_sol = val_sol(Sol,costi_Sj)\n",
    "    iter=0\n",
    "    stessa_sol=0\n",
    "    soluzioni=[]\n",
    "    \n",
    "    #Dimensione dell'intorno dipendente dalla dimensione del problema\n",
    "    dim_intorno = int(0.1*num_colonne)\n",
    "    \n",
    "    while True:\n",
    "        soluzioni_vicine = intorno(vecchia_soluzione,A,num_righe,num_colonne,costi_Sj,dim_intorno)\n",
    "        migliore_sol=vecchia_soluzione\n",
    "        val_migliore_sol = val_sol(vecchia_soluzione,costi_Sj)\n",
    "\n",
    "        if continua and iter%50==0:\n",
    "            print(\"iterazione N°:\",iter, \"--> Miglioramento Percentuale:\", val_migliore_sol/valore_sol*100, \"%\")\n",
    "\n",
    "        for sol,val in soluzioni_vicine:\n",
    "            if(val < val_migliore_sol):\n",
    "                val_migliore_sol = val\n",
    "                migliore_sol = sol\n",
    "                val_soluzioni.append(val)\n",
    "                \n",
    "        \n",
    "        if((migliore_sol == vecchia_soluzione).all()):\n",
    "            stessa_sol = stessa_sol + 1\n",
    "            if(stessa_sol == 100):\n",
    "                \n",
    "                #Incremento dinamico della dimensione dell'intorno. Quando è \n",
    "                #trovata una soluzione con medesimo valore per 100 iterazioni\n",
    "                #consecutive allora è INTENSIFICATA (tecnica di intensificazione)\n",
    "                #la ricerca nell'intorno della soluzione successiva.\n",
    "                dim_intorno = int(0.5*num_colonne)\n",
    "                \n",
    "            if(stessa_sol == 200):\n",
    "                break\n",
    "        else:\n",
    "            stessa_sol = 0\n",
    "            vecchia_soluzione = migliore_sol\n",
    "\n",
    "        iter = iter+1\n",
    "        \n",
    "    return vecchia_soluzione"
   ]
  },
  {
   "cell_type": "code",
   "execution_count": 17,
   "id": "943524de",
   "metadata": {},
   "outputs": [
    {
     "name": "stdout",
     "output_type": "stream",
     "text": [
      "iterazione N°: 0 --> Miglioramento Percentuale: 100.0 %\n",
      "iterazione N°: 50 --> Miglioramento Percentuale: 57.18891038039974 %\n",
      "iterazione N°: 100 --> Miglioramento Percentuale: 31.721470019342355 %\n",
      "iterazione N°: 150 --> Miglioramento Percentuale: 20.24500322372663 %\n",
      "iterazione N°: 200 --> Miglioramento Percentuale: 19.600257898130238 %\n",
      "iterazione N°: 250 --> Miglioramento Percentuale: 19.600257898130238 %\n",
      "iterazione N°: 300 --> Miglioramento Percentuale: 19.600257898130238 %\n",
      "iterazione N°: 350 --> Miglioramento Percentuale: 19.600257898130238 %\n",
      "iterazione N°: 400 --> Miglioramento Percentuale: 19.084461637653128 %\n",
      "iterazione N°: 450 --> Miglioramento Percentuale: 19.084461637653128 %\n",
      "iterazione N°: 500 --> Miglioramento Percentuale: 19.084461637653128 %\n",
      "iterazione N°: 550 --> Miglioramento Percentuale: 19.084461637653128 %\n",
      "Soluzione -->  [1. 1. 1. ... 0. 0. 0.] \n",
      "Valore soluzione:  296.0\n",
      "Execution time Ricerca locale:  8.691008806228638 s\n"
     ]
    }
   ],
   "source": [
    "#DEBUG\n",
    "val_soluzioni=[]\n",
    "t1=time.time()\n",
    "Soluzione_Local=ricerca_locale(Soluzione_Greedy,A,num_righe, num_colonne, costi_Sj,val_soluzioni)\n",
    "t2=time.time()\n",
    "print(\"Soluzione --> \",Soluzione_Local,\"\\nValore soluzione: \",val_sol(Soluzione_Local,costi_Sj))\n",
    "print(\"Execution time Ricerca locale: \",t2-t1, \"s\")  "
   ]
  },
  {
   "cell_type": "code",
   "execution_count": 18,
   "id": "569dff17",
   "metadata": {},
   "outputs": [
    {
     "data": {
      "text/plain": [
       "<matplotlib.legend.Legend at 0x224a0ec9c10>"
      ]
     },
     "execution_count": 18,
     "metadata": {},
     "output_type": "execute_result"
    },
    {
     "data": {
      "image/png": "[encoded data removed]",
      "text/plain": [
       "<Figure size 432x288 with 1 Axes>"
      ]
     },
     "metadata": {
      "needs_background": "light"
     },
     "output_type": "display_data"
    }
   ],
   "source": [
    "a=np.array(val_soluzioni)\n",
    "l=len(a)\n",
    "Best=Valore_Ottimo #Valore ottenuto dall' esecuzione dell'algoritmo esatto con Gurobi\n",
    "plt.title(\"Local Search\",fontsize=25)\n",
    "plt.ylabel(\"Valore funzione obiettivo\")\n",
    "plt.xlabel(\"Iterazione\")\n",
    "plt.xlim(-num_colonne/2, l+num_colonne/2)\n",
    "plt.ylim(min(a)-num_colonne/2, max(a)+num_colonne/2)\n",
    "plt.plot([l-1],[Best], 'ro', label='Valore Ottimo')\n",
    "for i in range(l):\n",
    "    plt.plot([i],a[i],'b+')\n",
    "plt.legend()"
   ]
  },
  {
   "cell_type": "markdown",
   "id": "3be7bf0f",
   "metadata": {},
   "source": [
    "Definizione di una euristica di ricerca locale molto simile alla precedente, ma che implementa la ricerca nell'intorno con \n",
    "**tecnica FIRST IMPROVEMENT**. Verosimilmente dovrebbe verificarsi un calo nel tempo complessivo di calcolo della soluzione sub-ottima, con un conseguente (ma non certo) peggioramento del valore della soluzione finale."
   ]
  },
  {
   "cell_type": "code",
   "execution_count": 19,
   "id": "eb0d81bc",
   "metadata": {},
   "outputs": [],
   "source": [
    "def ricerca_locale_first_improvement(Sol,A,num_righe,num_colonne,costi_Sj,val_soluzioni,continua=True):\n",
    "    \n",
    "    vecchia_soluzione=Sol\n",
    "    valore_sol = val_sol(Sol,costi_Sj)\n",
    "    iter=0\n",
    "    stessa_sol=0\n",
    "    soluzioni=[]\n",
    "    dim_intorno = int(0.1*num_colonne)\n",
    "\n",
    "    while True:\n",
    "        soluzioni_vicine = intorno(vecchia_soluzione,A,num_righe,num_colonne,costi_Sj,dim_intorno)\n",
    "        migliore_sol=vecchia_soluzione\n",
    "        val_migliore_sol = val_sol(vecchia_soluzione,costi_Sj)\n",
    "\n",
    "        if continua and iter%50 == 0:\n",
    "            print(\"iterazione N°:\",iter, \"--> Miglioramento Percentuale:\", val_migliore_sol/valore_sol*100, \"%\")\n",
    "\n",
    "        for sol,val in soluzioni_vicine:\n",
    "            if(val < val_migliore_sol):\n",
    "                val_migliore_sol = val\n",
    "                migliore_sol = sol\n",
    "                break\n",
    "        \n",
    "        if((migliore_sol == vecchia_soluzione).all()):\n",
    "            stessa_sol = stessa_sol + 1\n",
    "            if(stessa_sol == 100):\n",
    "                break\n",
    "        else:\n",
    "            stessa_sol = 0\n",
    "            vecchia_soluzione = migliore_sol\n",
    "\n",
    "        iter = iter+1\n",
    "    return vecchia_soluzione"
   ]
  },
  {
   "cell_type": "code",
   "execution_count": 20,
   "id": "cac1d5c5",
   "metadata": {},
   "outputs": [
    {
     "name": "stdout",
     "output_type": "stream",
     "text": [
      "iterazione N°: 0 --> Miglioramento Percentuale: 100.0 %\n",
      "iterazione N°: 50 --> Miglioramento Percentuale: 78.20760799484204 %\n",
      "iterazione N°: 100 --> Miglioramento Percentuale: 55.89941972920697 %\n",
      "iterazione N°: 150 --> Miglioramento Percentuale: 33.65570599613153 %\n",
      "iterazione N°: 200 --> Miglioramento Percentuale: 29.851708575112827 %\n",
      "iterazione N°: 250 --> Miglioramento Percentuale: 29.851708575112827 %\n",
      "Soluzione -->  [0. 0. 0. ... 0. 0. 0.] \n",
      "Valore soluzione:  463.0\n",
      "Execution time Ricerca locale:  3.1758289337158203 s\n"
     ]
    }
   ],
   "source": [
    "#DEBUG\n",
    "val_soluzioni=[]\n",
    "t1=time.time()\n",
    "Soluzione_Local_firts_improvement=ricerca_locale_first_improvement(Soluzione_Greedy,A,num_righe, num_colonne, costi_Sj,val_soluzioni)\n",
    "t2=time.time()\n",
    "print(\"Soluzione --> \",Soluzione_Local_firts_improvement,\"\\nValore soluzione: \",val_sol(Soluzione_Local_firts_improvement,costi_Sj))\n",
    "print(\"Execution time Ricerca locale: \",t2-t1, \"s\")  "
   ]
  },
  {
   "cell_type": "markdown",
   "id": "0aace245",
   "metadata": {},
   "source": [
    "## <center> Euristica Tabu Search </center>"
   ]
  },
  {
   "cell_type": "markdown",
   "id": "1605fc5c",
   "metadata": {},
   "source": [
    "Classe coda_tabu per implementare il **TDA** per gestire le **mosse tabu**. L'elemento i-esimo della coda conterrà un intero rappresentante l'indice del subset Sj (nel vettore soluzione) che è stato oggetto di una mossa. Trattandosi di una **coda circolare** un determinato elemento non farà più parte della coda dopo dim_coda inserimenti. "
   ]
  },
  {
   "cell_type": "code",
   "execution_count": 21,
   "id": "ae30d496",
   "metadata": {},
   "outputs": [],
   "source": [
    "class coda_tabu:\n",
    "\n",
    "    #dimensione = numero elementi contenuti\n",
    "    def __init__(self, dimensione=5):\n",
    "        self.coda = [None] * dimensione  #coda\n",
    "        self.dimensione_max = dimensione\n",
    "        self.punt_testa = 0 \n",
    "        self.punt_coda = -1\n",
    "        self.riemp = 0\n",
    "\n",
    "    def inserisci_elemento_tabu(self, elem_tabu):\n",
    "        self.punt_coda = (self.punt_coda + 1) % self.dimensione_max\n",
    "        self.coda[self.punt_coda] = elem_tabu\n",
    "        if(self.riemp!=self.dimensione_max):\n",
    "            self.riemp = self.riemp + 1\n",
    "\n",
    "    def trova_elemento(self, elem_tabu): \n",
    "        for i in range(self.riemp):\n",
    "            if(self.coda[i] == elem_tabu):\n",
    "                return True\n",
    "        return False   \n",
    "\n",
    "    def stampa_coda(self):\n",
    "        print(\"Print Coda: \")\n",
    "        for i in range(self.riemp):\n",
    "            print(self.coda[i])\n",
    "            \n",
    "    def pulisci_tabu(self):\n",
    "        for i in range(self.riemp):\n",
    "            self.coda[i]=None\n",
    "        self.riemp=0\n",
    "        self.punt_testa = 0 \n",
    "        self.punt_coda = -1"
   ]
  },
  {
   "cell_type": "markdown",
   "id": "9f7bff3b",
   "metadata": {},
   "source": [
    "Codice di definizione dell'intorno per la **tabu search**. A differenza della procedura di calcolo dell'intorno per la ricerca locale standard, questa, nonostante generi indici casuali per determinare i subset da eliminare/aggiungere, effettua la mossa esclusivamente se l'indice del subset soggetto della mossa non si trova nella coda circolare tabu."
   ]
  },
  {
   "cell_type": "code",
   "execution_count": 45,
   "id": "05c93ce4",
   "metadata": {},
   "outputs": [],
   "source": [
    "def intorno_tabu(Sol,A,num_colonne, costi_Sj,coda_tabu, dim_intorno, intensificazione):\n",
    "    \n",
    "    m=dim_intorno\n",
    "    righe_coperte_base=np.zeros(num_righe)\n",
    "    righe_coperte_base=copri_righe(Sol,A, num_righe,num_colonne)\n",
    "    soluzioni_vicine=[]\n",
    "    val_sol_iniziale=val_sol(Sol,costi_Sj)\n",
    "    \n",
    "    for i in range(m):\n",
    "        k=np.random.randint(num_colonne)\n",
    "        if(not(coda_tabu.trova_elemento(k)) and Sol[k]!=0):\n",
    "            #print(\"k non è nella lista tabu!\")\n",
    "            new_sol=Sol.copy()\n",
    "            elimina_set(new_sol,k)\n",
    "            righe_coperte_delete=delete_righe_coperte(righe_coperte_base,k,A,num_righe)\n",
    "            if(is_a_solution(righe_coperte_delete, num_righe)):\n",
    "                new_val=val_sol_elimina(val_sol_iniziale,k,costi_Sj)\n",
    "                soluzioni_vicine.append((new_sol,new_val,(k,-1)))\n",
    "                            \n",
    "    for i in range(m):\n",
    "        k=np.random.randint(num_colonne)\n",
    "        h=np.random.randint(num_colonne)\n",
    "        if(not(coda_tabu.trova_elemento(h)) and not(coda_tabu.trova_elemento(k)) and Sol[h]!=0 and Sol[k]!=1):\n",
    "            #print(\"h e k da swappare non sono nella lista tabu!\")\n",
    "            new_sol2=Sol.copy()\n",
    "            scambia_set(new_sol2,h,k)\n",
    "            righe_coperte_swap=swap_righe_coperte(righe_coperte_base,h,k,A,num_righe)\n",
    "            if(is_a_solution(righe_coperte_swap, num_righe)):\n",
    "                new_val=val_sol_swap(val_sol_iniziale,h,k,costi_Sj)\n",
    "                soluzioni_vicine.append((new_sol2,new_val,(h,k)))\n",
    "                \n",
    "    if(intensificazione):\n",
    "        \n",
    "        for i in range(m):\n",
    "            k1=np.random.randint(num_colonne)\n",
    "            k2=np.random.randint(num_colonne)\n",
    "            if(not(coda_tabu.trova_elemento(k1)) and not(coda_tabu.trova_elemento(k2)) and Sol[k1]==1 and Sol[k2]==1):\n",
    "                new_sol=Sol.copy()\n",
    "                elimina_set(new_sol,k1)\n",
    "                elimina_set(new_sol,k2)\n",
    "                righe_coperte_delete=delete_righe_coperte(righe_coperte_base,k1,A,num_righe)\n",
    "                righe_coperte_delete=delete_righe_coperte(righe_coperte_delete,k2,A,num_righe)\n",
    "                if(is_a_solution(righe_coperte_delete, num_righe)):\n",
    "                    new_val=val_sol_elimina(val_sol_iniziale,k1,costi_Sj)\n",
    "                    new_val=val_sol_elimina(new_val,k2,costi_Sj)\n",
    "                    soluzioni_vicine.append((new_sol,new_val,(k1,k2)))\n",
    "                else:   \n",
    "                    h1=np.random.randint(num_colonne)\n",
    "                    h2=np.random.randint(num_colonne)\n",
    "                    if(not(coda_tabu.trova_elemento(h1)) and not(coda_tabu.trova_elemento(h2)) and Sol[h1]==0 and Sol[h2]==0):\n",
    "                        new_sol=Sol.copy()\n",
    "                        aggiungi_set(new_sol,h1)\n",
    "                        aggiungi_set(new_sol,h2)\n",
    "                        righe_coperte_add = add_righe_coperte(righe_coperte,h1,A,num_righe)\n",
    "                        righe_coperte_add = add_righe_coperte(righe_coperte,h2,A,num_righe)\n",
    "                        if(is_a_solution(righe_coperte_add, num_righe)):\n",
    "                            new_val=val_sol_add(val_sol_iniziale,h1,costi_Sj)\n",
    "                            new_val=val_sol_add(new_val,h2,costi_Sj)\n",
    "                            soluzioni_vicine.append((new_sol,new_val,(h1,h2)))\n",
    "\n",
    "    return soluzioni_vicine"
   ]
  },
  {
   "cell_type": "markdown",
   "id": "5e77cddf",
   "metadata": {},
   "source": [
    "Implementazione della Euristica Tabu Search. All'interno di tale implementazione si ritrovano i concetti di **intensificazione** (con l'aumento della dimensione e della popolosità dell'interno da ispezionare) e **diversificazione** (con la possibilità di effettuare delle iterazioni peggiorative"
   ]
  },
  {
   "cell_type": "code",
   "execution_count": 46,
   "id": "4009b63b",
   "metadata": {},
   "outputs": [],
   "source": [
    "def tabu_search(Sol,A,num_colonne, costi_Sj,val_soluzioni,continua=True):\n",
    "    \n",
    "    vecchia_soluzione=Sol\n",
    "    valore_sol = val_sol(Sol,costi_Sj)\n",
    "    \n",
    "    val_migliore_sol = valore_sol\n",
    "    migliore_sol=Sol\n",
    "    \n",
    "    iter=0\n",
    "    stessa_sol=0\n",
    "    peggiora=False\n",
    "    count_peggiora=0\n",
    "    count_peggiorative_consecutive = 0\n",
    "    \n",
    "    intensifica = False\n",
    "    \n",
    "    dim_intorno = int(num_colonne*0.1)\n",
    "    coda_tb=coda_tabu(int(num_colonne*0.06)) \n",
    "    \n",
    "    #NOTA: Capacità della coda statica definita dalla dimensione del problema considerato. \n",
    "    #Rappresenta il numero di iterazioni dopo il quale la mossa tabu viene \"sovrascritta\" nella coda\n",
    "    \n",
    "    while True:\n",
    "        soluzioni_vicine = intorno_tabu(vecchia_soluzione,A,num_colonne, costi_Sj, coda_tb, dim_intorno, intensifica)\n",
    "        soluzione_attuale = vecchia_soluzione\n",
    "        val_soluzione_attuale = val_sol(soluzione_attuale,costi_Sj)\n",
    "        \n",
    "        if continua and iter%50 == 0:\n",
    "            print(\"Numero iterazione:\", iter, \"Scostamento percentuale: \",val_soluzione_attuale/valore_sol*100, \"%\")\n",
    "\n",
    "        if(not peggiora):\n",
    "            for sol,val,tabu in soluzioni_vicine:\n",
    "               # print(\"sol , val\",sol,val)\n",
    "                if(val < val_soluzione_attuale):\n",
    "                    #print(\"E' stata trovata una soluzione migliorativa con valore\",val)\n",
    "                    soluzione_attuale = sol\n",
    "                    val_soluzione_attuale = val\n",
    "                    if(val_soluzione_attuale < val_migliore_sol):\n",
    "                        val_migliore_sol = val\n",
    "                        migliore_sol = sol    \n",
    "                        coda_tb.inserisci_elemento_tabu(tabu[0])\n",
    "                        if(tabu[1]!=-1):\n",
    "                            coda_tb.inserisci_elemento_tabu(tabu[1])\n",
    "                        val_soluzioni.append(val)\n",
    "        else:\n",
    "            #print(\"Ricerca di una soluzione peggiorativa nell'intorno\")\n",
    "            for sol,val,tabu in soluzioni_vicine:\n",
    "                if(val > val_soluzione_attuale):\n",
    "                    print(\"Trovata soluzione peggiorativa nell'intorno con valore: \",val)\n",
    "                    soluzione_attuale = sol\n",
    "                    val_soluzione_attuale = val\n",
    "                    val_soluzioni.append(val)\n",
    "                    peggiora=False\n",
    "                    break  \n",
    "            \n",
    "\n",
    "        if((soluzione_attuale == vecchia_soluzione).all()):\n",
    "            stessa_sol = stessa_sol + 1\n",
    "            \n",
    "            if(stessa_sol==50): \n",
    "                #codatabu.pulisci_tabu()\n",
    "                print(\"Trovata soluzione equivalente per 100 iterazioni consecutive\")\n",
    "                \n",
    "                if(count_peggiora<3): \n",
    "                    \n",
    "                    print(\"Effettuo una iterazione peggiorativa\")\n",
    "                    count_peggiora+=1\n",
    "                    stessa_sol=0\n",
    "                    peggiora=True\n",
    "                    \n",
    "                    #Anche qui viene applicata una tecnica di INTENSIFICAZIONE \n",
    "                    #Aumenta il numero di iterazioni nella determinazione dell'intorno\n",
    "                    #ad ogni iterazione peggiorativa, in modo da infittire il numero \n",
    "                    #di soluzioni presenti in esso\n",
    "                    dim_intorno += int(num_colonne*0.1)\n",
    "                    \n",
    "            elif(stessa_sol==100):\n",
    "                print(\"Intensificazione, aumento l'ampiezza dell'intorno\")\n",
    "                if(peggiora):\n",
    "                    peggiora = False\n",
    "                intensificazione = True\n",
    "                \n",
    "            elif(stessa_sol==200):\n",
    "                break\n",
    "        else:\n",
    "            stessa_sol = 0\n",
    "            vecchia_soluzione = soluzione_attuale\n",
    "\n",
    "        iter = iter+1\n",
    "    return migliore_sol"
   ]
  },
  {
   "cell_type": "code",
   "execution_count": 47,
   "id": "7051d592",
   "metadata": {
    "scrolled": true
   },
   "outputs": [
    {
     "name": "stdout",
     "output_type": "stream",
     "text": [
      "Numero iterazione: 0 Scostamento percentuale:  100.0 %\n",
      "Numero iterazione: 50 Scostamento percentuale:  60.21921341070278 %\n",
      "Numero iterazione: 100 Scostamento percentuale:  35.84784010315925 %\n",
      "Numero iterazione: 150 Scostamento percentuale:  25.85428755641522 %\n",
      "Numero iterazione: 200 Scostamento percentuale:  25.78981302385558 %\n",
      "Trovata soluzione equivalente per 100 iterazioni consecutive\n",
      "Effettuo una iterazione peggiorativa\n",
      "Trovata soluzione peggiorativa nell'intorno con valore:  453.0\n",
      "Numero iterazione: 250 Scostamento percentuale:  28.755641521598967 %\n",
      "Trovata soluzione equivalente per 100 iterazioni consecutive\n",
      "Effettuo una iterazione peggiorativa\n",
      "Trovata soluzione peggiorativa nell'intorno con valore:  459.0\n",
      "Numero iterazione: 300 Scostamento percentuale:  29.593810444874276 %\n",
      "Trovata soluzione equivalente per 100 iterazioni consecutive\n",
      "Effettuo una iterazione peggiorativa\n",
      "Trovata soluzione peggiorativa nell'intorno con valore:  505.0\n",
      "Numero iterazione: 350 Scostamento percentuale:  32.55963894261767 %\n",
      "Trovata soluzione equivalente per 100 iterazioni consecutive\n",
      "Numero iterazione: 400 Scostamento percentuale:  32.55963894261767 %\n",
      "Intensificazione, aumento l'ampiezza dell'intorno\n",
      "Numero iterazione: 450 Scostamento percentuale:  32.55963894261767 %\n",
      "Numero iterazione: 500 Scostamento percentuale:  31.463571889103804 %\n",
      "Trovata soluzione equivalente per 100 iterazioni consecutive\n",
      "Numero iterazione: 550 Scostamento percentuale:  31.463571889103804 %\n",
      "Intensificazione, aumento l'ampiezza dell'intorno\n",
      "Numero iterazione: 600 Scostamento percentuale:  31.463571889103804 %\n"
     ]
    },
    {
     "ename": "KeyboardInterrupt",
     "evalue": "",
     "output_type": "error",
     "traceback": [
      "\u001b[1;31m---------------------------------------------------------------------------\u001b[0m",
      "\u001b[1;31mKeyboardInterrupt\u001b[0m                         Traceback (most recent call last)",
      "\u001b[1;32m~\\AppData\\Local\\Temp/ipykernel_14852/3863571644.py\u001b[0m in \u001b[0;36m<module>\u001b[1;34m\u001b[0m\n\u001b[0;32m      2\u001b[0m \u001b[0msoluzione\u001b[0m \u001b[1;33m=\u001b[0m \u001b[0mnp\u001b[0m\u001b[1;33m.\u001b[0m\u001b[0mones\u001b[0m\u001b[1;33m(\u001b[0m\u001b[0mnum_colonne\u001b[0m\u001b[1;33m)\u001b[0m\u001b[1;33m\u001b[0m\u001b[1;33m\u001b[0m\u001b[0m\n\u001b[0;32m      3\u001b[0m \u001b[0mt1\u001b[0m\u001b[1;33m=\u001b[0m\u001b[0mtime\u001b[0m\u001b[1;33m.\u001b[0m\u001b[0mtime\u001b[0m\u001b[1;33m(\u001b[0m\u001b[1;33m)\u001b[0m\u001b[1;33m\u001b[0m\u001b[1;33m\u001b[0m\u001b[0m\n\u001b[1;32m----> 4\u001b[1;33m \u001b[0mSoluzione_tabu\u001b[0m\u001b[1;33m=\u001b[0m\u001b[0mtabu_search\u001b[0m\u001b[1;33m(\u001b[0m\u001b[0mSoluzione_Greedy\u001b[0m\u001b[1;33m,\u001b[0m\u001b[0mA\u001b[0m\u001b[1;33m,\u001b[0m\u001b[0mnum_colonne\u001b[0m\u001b[1;33m,\u001b[0m\u001b[0mcosti_Sj\u001b[0m\u001b[1;33m,\u001b[0m\u001b[0mval_soluzioni2\u001b[0m\u001b[1;33m)\u001b[0m\u001b[1;33m\u001b[0m\u001b[1;33m\u001b[0m\u001b[0m\n\u001b[0m\u001b[0;32m      5\u001b[0m \u001b[0mt2\u001b[0m\u001b[1;33m=\u001b[0m\u001b[0mtime\u001b[0m\u001b[1;33m.\u001b[0m\u001b[0mtime\u001b[0m\u001b[1;33m(\u001b[0m\u001b[1;33m)\u001b[0m\u001b[1;33m\u001b[0m\u001b[1;33m\u001b[0m\u001b[0m\n\u001b[0;32m      6\u001b[0m \u001b[0mprint\u001b[0m\u001b[1;33m(\u001b[0m\u001b[1;34m\"Soluzione : \"\u001b[0m\u001b[1;33m,\u001b[0m\u001b[0mSoluzione_tabu\u001b[0m\u001b[1;33m,\u001b[0m\u001b[1;34m\"\\nValore soluzione: \"\u001b[0m\u001b[1;33m,\u001b[0m\u001b[0mval_sol\u001b[0m\u001b[1;33m(\u001b[0m\u001b[0mSoluzione_tabu\u001b[0m\u001b[1;33m,\u001b[0m\u001b[0mcosti_Sj\u001b[0m\u001b[1;33m)\u001b[0m\u001b[1;33m,\u001b[0m\u001b[1;34m\"\\nExecution time Tabu Search:\"\u001b[0m\u001b[1;33m,\u001b[0m\u001b[0mt2\u001b[0m\u001b[1;33m-\u001b[0m\u001b[0mt1\u001b[0m\u001b[1;33m,\u001b[0m\u001b[1;34m\" s\"\u001b[0m\u001b[1;33m)\u001b[0m\u001b[1;33m\u001b[0m\u001b[1;33m\u001b[0m\u001b[0m\n",
      "\u001b[1;32m~\\AppData\\Local\\Temp/ipykernel_14852/3015620126.py\u001b[0m in \u001b[0;36mtabu_search\u001b[1;34m(Sol, A, num_colonne, costi_Sj, val_soluzioni, continua)\u001b[0m\n\u001b[0;32m     22\u001b[0m \u001b[1;33m\u001b[0m\u001b[0m\n\u001b[0;32m     23\u001b[0m     \u001b[1;32mwhile\u001b[0m \u001b[1;32mTrue\u001b[0m\u001b[1;33m:\u001b[0m\u001b[1;33m\u001b[0m\u001b[1;33m\u001b[0m\u001b[0m\n\u001b[1;32m---> 24\u001b[1;33m         \u001b[0msoluzioni_vicine\u001b[0m \u001b[1;33m=\u001b[0m \u001b[0mintorno_tabu\u001b[0m\u001b[1;33m(\u001b[0m\u001b[0mvecchia_soluzione\u001b[0m\u001b[1;33m,\u001b[0m\u001b[0mA\u001b[0m\u001b[1;33m,\u001b[0m\u001b[0mnum_colonne\u001b[0m\u001b[1;33m,\u001b[0m \u001b[0mcosti_Sj\u001b[0m\u001b[1;33m,\u001b[0m \u001b[0mcoda_tb\u001b[0m\u001b[1;33m,\u001b[0m \u001b[0mdim_intorno\u001b[0m\u001b[1;33m,\u001b[0m \u001b[0mintensifica\u001b[0m\u001b[1;33m)\u001b[0m\u001b[1;33m\u001b[0m\u001b[1;33m\u001b[0m\u001b[0m\n\u001b[0m\u001b[0;32m     25\u001b[0m         \u001b[0msoluzione_attuale\u001b[0m \u001b[1;33m=\u001b[0m \u001b[0mvecchia_soluzione\u001b[0m\u001b[1;33m\u001b[0m\u001b[1;33m\u001b[0m\u001b[0m\n\u001b[0;32m     26\u001b[0m         \u001b[0mval_soluzione_attuale\u001b[0m \u001b[1;33m=\u001b[0m \u001b[0mval_sol\u001b[0m\u001b[1;33m(\u001b[0m\u001b[0msoluzione_attuale\u001b[0m\u001b[1;33m,\u001b[0m\u001b[0mcosti_Sj\u001b[0m\u001b[1;33m)\u001b[0m\u001b[1;33m\u001b[0m\u001b[1;33m\u001b[0m\u001b[0m\n",
      "\u001b[1;32m~\\AppData\\Local\\Temp/ipykernel_14852/1589635890.py\u001b[0m in \u001b[0;36mintorno_tabu\u001b[1;34m(Sol, A, num_colonne, costi_Sj, coda_tabu, dim_intorno, intensificazione)\u001b[0m\n\u001b[0;32m     25\u001b[0m             \u001b[0mnew_sol2\u001b[0m\u001b[1;33m=\u001b[0m\u001b[0mSol\u001b[0m\u001b[1;33m.\u001b[0m\u001b[0mcopy\u001b[0m\u001b[1;33m(\u001b[0m\u001b[1;33m)\u001b[0m\u001b[1;33m\u001b[0m\u001b[1;33m\u001b[0m\u001b[0m\n\u001b[0;32m     26\u001b[0m             \u001b[0mscambia_set\u001b[0m\u001b[1;33m(\u001b[0m\u001b[0mnew_sol2\u001b[0m\u001b[1;33m,\u001b[0m\u001b[0mh\u001b[0m\u001b[1;33m,\u001b[0m\u001b[0mk\u001b[0m\u001b[1;33m)\u001b[0m\u001b[1;33m\u001b[0m\u001b[1;33m\u001b[0m\u001b[0m\n\u001b[1;32m---> 27\u001b[1;33m             \u001b[0mrighe_coperte_swap\u001b[0m\u001b[1;33m=\u001b[0m\u001b[0mswap_righe_coperte\u001b[0m\u001b[1;33m(\u001b[0m\u001b[0mrighe_coperte_base\u001b[0m\u001b[1;33m,\u001b[0m\u001b[0mh\u001b[0m\u001b[1;33m,\u001b[0m\u001b[0mk\u001b[0m\u001b[1;33m,\u001b[0m\u001b[0mA\u001b[0m\u001b[1;33m,\u001b[0m\u001b[0mnum_righe\u001b[0m\u001b[1;33m)\u001b[0m\u001b[1;33m\u001b[0m\u001b[1;33m\u001b[0m\u001b[0m\n\u001b[0m\u001b[0;32m     28\u001b[0m             \u001b[1;32mif\u001b[0m\u001b[1;33m(\u001b[0m\u001b[0mis_a_solution\u001b[0m\u001b[1;33m(\u001b[0m\u001b[0mrighe_coperte_swap\u001b[0m\u001b[1;33m,\u001b[0m \u001b[0mnum_righe\u001b[0m\u001b[1;33m)\u001b[0m\u001b[1;33m)\u001b[0m\u001b[1;33m:\u001b[0m\u001b[1;33m\u001b[0m\u001b[1;33m\u001b[0m\u001b[0m\n\u001b[0;32m     29\u001b[0m                 \u001b[0mnew_val\u001b[0m\u001b[1;33m=\u001b[0m\u001b[0mval_sol_swap\u001b[0m\u001b[1;33m(\u001b[0m\u001b[0mval_sol_iniziale\u001b[0m\u001b[1;33m,\u001b[0m\u001b[0mh\u001b[0m\u001b[1;33m,\u001b[0m\u001b[0mk\u001b[0m\u001b[1;33m,\u001b[0m\u001b[0mcosti_Sj\u001b[0m\u001b[1;33m)\u001b[0m\u001b[1;33m\u001b[0m\u001b[1;33m\u001b[0m\u001b[0m\n",
      "\u001b[1;32m~\\AppData\\Local\\Temp/ipykernel_14852/3516352196.py\u001b[0m in \u001b[0;36mswap_righe_coperte\u001b[1;34m(righe_coperte, h, k, A, num_righe)\u001b[0m\n\u001b[0;32m      8\u001b[0m \u001b[1;33m\u001b[0m\u001b[0m\n\u001b[0;32m      9\u001b[0m \u001b[1;32mdef\u001b[0m \u001b[0mswap_righe_coperte\u001b[0m\u001b[1;33m(\u001b[0m\u001b[0mrighe_coperte\u001b[0m\u001b[1;33m,\u001b[0m\u001b[0mh\u001b[0m\u001b[1;33m,\u001b[0m\u001b[0mk\u001b[0m\u001b[1;33m,\u001b[0m\u001b[0mA\u001b[0m\u001b[1;33m,\u001b[0m\u001b[0mnum_righe\u001b[0m\u001b[1;33m)\u001b[0m\u001b[1;33m:\u001b[0m\u001b[1;33m\u001b[0m\u001b[1;33m\u001b[0m\u001b[0m\n\u001b[1;32m---> 10\u001b[1;33m     \u001b[0mrighe_coperte_swap\u001b[0m \u001b[1;33m=\u001b[0m \u001b[0mnp\u001b[0m\u001b[1;33m.\u001b[0m\u001b[0mzeros\u001b[0m\u001b[1;33m(\u001b[0m\u001b[0mnum_righe\u001b[0m\u001b[1;33m)\u001b[0m\u001b[1;33m\u001b[0m\u001b[1;33m\u001b[0m\u001b[0m\n\u001b[0m\u001b[0;32m     11\u001b[0m     \u001b[1;32mfor\u001b[0m \u001b[0mi\u001b[0m \u001b[1;32min\u001b[0m \u001b[0mrange\u001b[0m\u001b[1;33m(\u001b[0m\u001b[0mnum_righe\u001b[0m\u001b[1;33m)\u001b[0m\u001b[1;33m:\u001b[0m\u001b[1;33m\u001b[0m\u001b[1;33m\u001b[0m\u001b[0m\n\u001b[0;32m     12\u001b[0m         \u001b[0mrighe_coperte_swap\u001b[0m\u001b[1;33m[\u001b[0m\u001b[0mi\u001b[0m\u001b[1;33m]\u001b[0m\u001b[1;33m=\u001b[0m\u001b[0mrighe_coperte\u001b[0m\u001b[1;33m[\u001b[0m\u001b[0mi\u001b[0m\u001b[1;33m]\u001b[0m\u001b[1;33m\u001b[0m\u001b[1;33m\u001b[0m\u001b[0m\n",
      "\u001b[1;31mKeyboardInterrupt\u001b[0m: "
     ]
    }
   ],
   "source": [
    "val_soluzioni2 = []\n",
    "soluzione = np.ones(num_colonne)\n",
    "t1=time.time()\n",
    "Soluzione_tabu=tabu_search(Soluzione_Greedy,A,num_colonne,costi_Sj,val_soluzioni2)\n",
    "t2=time.time()\n",
    "print(\"Soluzione : \",Soluzione_tabu,\"\\nValore soluzione: \",val_sol(Soluzione_tabu,costi_Sj),\"\\nExecution time Tabu Search:\",t2-t1,\" s\")"
   ]
  },
  {
   "cell_type": "code",
   "execution_count": null,
   "id": "efdf5cf2",
   "metadata": {},
   "outputs": [],
   "source": [
    "a=np.array(val_soluzioni2)\n",
    "l=len(a)\n",
    "Best=Valore_Ottimo #Valore ottenuto dall' esecuzione dell'algoritmo esatto con Gurobi\n",
    "plt.title(\"Tabu Search\",fontsize=25)\n",
    "plt.ylabel(\"Valore funzione obiettivo\")\n",
    "plt.xlabel(\"Iterazione\")\n",
    "plt.xlim(-num_colonne/4, l+num_colonne/4)\n",
    "plt.ylim(min(a)-num_colonne/4, max(a)+num_colonne/4)\n",
    "plt.plot([l-1],[Best], 'ro', label='Valore Ottimo')\n",
    "for i in range(l):\n",
    "    plt.plot([i],a[i],'b+')\n",
    "plt.legend()"
   ]
  },
  {
   "cell_type": "code",
   "execution_count": null,
   "id": "ba52d53b",
   "metadata": {},
   "outputs": [],
   "source": []
  }
 ],
 "metadata": {
  "kernelspec": {
   "display_name": "Python 3 (ipykernel)",
   "language": "python",
   "name": "python3"
  },
  "language_info": {
   "codemirror_mode": {
    "name": "ipython",
    "version": 3
   },
   "file_extension": ".py",
   "mimetype": "text/x-python",
   "name": "python",
   "nbconvert_exporter": "python",
   "pygments_lexer": "ipython3",
   "version": "3.9.7"
  }
 },
 "nbformat": 4,
 "nbformat_minor": 5
}
